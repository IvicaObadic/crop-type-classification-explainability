{
 "cells": [
  {
   "cell_type": "code",
   "execution_count": 1,
   "metadata": {},
   "outputs": [],
   "source": [
    "import os\n",
    "import numpy as np\n",
    "import pandas as pd\n",
    "import seaborn as sns\n",
    "import matplotlib.pyplot as plt\n",
    "from sklearn.metrics import f1_score, accuracy_score, cohen_kappa_score\n",
    "import torch\n",
    "import sys\n",
    "import torchsummary\n",
    "\n",
    "module_path = os.path.abspath(os.path.join('..'))\n",
    "if module_path not in sys.path:\n",
    "    sys.path.append(module_path)\n",
    "\n",
    "from models.CropTypeClassifier import *\n",
    "from explainability_analysis.visualization_constants import *\n",
    "from explainability_analysis.visualization_functions import *\n",
    "from explainability_analysis.classification_results_summarizer import read_confusion_matrix\n",
    "\n",
    "figures_base_path = os.path.join(FIGURES_BASE_PATH, \"appendix\")\n",
    "\n",
    "NUM_CLASSES = 12\n",
    "HYPERPARAMETER_TUNING_RESULTS_BASE_DIR = \"C:/Users/results/{}_classes/\".format(NUM_CLASSES)\n",
    "\n",
    "\n",
    "def read_classification_results(classification_results_dir):\n",
    "    classification_results_path = os.path.join(classification_results_dir, \"predictions\", \"classification_metrics.csv\")\n",
    "    if (os.path.exists(classification_results_path)):\n",
    "        classification_data = np.genfromtxt(classification_results_path, delimiter=',', skip_header = 1)\n",
    "        return classification_data\n",
    "    return None\n",
    "\n",
    "\n",
    "def get_classification_results_per_seq_aggr_method(seq_aggr_method_dir):\n",
    "    result_list = []\n",
    "    seg_aggr_method = os.path.basename(seq_aggr_method_dir)\n",
    "    root_result_dirs = [seq_aggr_method_dir]\n",
    "    if seg_aggr_method == \"sampling\":\n",
    "        root_result_dirs = [os.path.join(seq_aggr_method_dir, sampling_result_dir) for sampling_result_dir in os.listdir(seq_aggr_method_dir)]\n",
    "    \n",
    "    for root_result_dir in root_result_dirs:\n",
    "        pos_enc_dirs = [os.path.join(root_result_dir, pos_enc_method) for pos_enc_method in os.listdir(root_result_dir)]\n",
    "        for pos_enc_opt_dir in pos_enc_dirs:\n",
    "            pos_enc_opt = os.path.basename(pos_enc_opt_dir)\n",
    "            for model_config in os.listdir(pos_enc_opt_dir):\n",
    "                model_result_dir = os.path.join(pos_enc_opt_dir, model_config)\n",
    "                classification_results = read_classification_results(model_result_dir)\n",
    "                if classification_results is not None:\n",
    "                    model_hyperparameters = model_config.split(\",\")\n",
    "                    num_layers = model_hyperparameters[0].split(\"=\")[1]\n",
    "                    num_heads = model_hyperparameters[1].split(\"=\")[1]\n",
    "                    emb_dim = model_hyperparameters[2].split(\"=\")[1]\n",
    "                    result_list.append((\n",
    "                        seg_aggr_method,\n",
    "                        pos_enc_opt,\n",
    "                        num_layers,\n",
    "                        num_heads,\n",
    "                        emb_dim,\n",
    "                        classification_results[1],\n",
    "                        classification_results[2],\n",
    "                        classification_results[6]))\n",
    "    \n",
    "    result_df = pd.DataFrame(result_list, \n",
    "                        columns=[\"SEQ_AGGR\", \"POS_ENC\", \"NUM_LAYERS\", \"NUM_HEADS\", \"EMB_DIM\", \"ACCURACY\", \"AVERAGE_CLASS_ACCURACY\", \"F1_SCORE\"])\n",
    "    result_df.sort_values(by=[\"F1_SCORE\", \"AVERAGE_CLASS_ACCURACY\"], inplace=True, ascending=False)    \n",
    "    return result_df\n",
    "\n",
    "\n",
    "def get_parcel_region_mapping(\n",
    "    root_parcel_mapping_dir = \"C:/Users/Ivica Obadic/Desktop/Explainable Machine Learning in Earth Observations/Projects/EO_explainability_survey/Datasets/BavarianCrops/ids/blocks\"):\n",
    "    parcel_region_mapping = []\n",
    "    parcel_mapping_files = [(\"holl\", os.path.join(root_parcel_mapping_dir, \"holl_test.txt\")),\n",
    "                            (\"nowa\", os.path.join(root_parcel_mapping_dir, \"nowa_test.txt\")),\n",
    "                            (\"krum\", os.path.join(root_parcel_mapping_dir, \"krum_test.txt\"))]\n",
    "    \n",
    "    for region, parcel_mapping_file in parcel_mapping_files:\n",
    "            with open(parcel_mapping_file, 'r') as parcel_mapping:\n",
    "                parcels_for_region = [(region, int(parcel_id.strip())) for parcel_id in parcel_mapping.readlines()]\n",
    "                parcel_region_mapping.extend(parcels_for_region)\n",
    "    \n",
    "    parcel_region_mapping_df = pd.DataFrame(parcel_region_mapping, columns = [\"REGION\", \"PARCEL_ID\"])\n",
    "    return parcel_region_mapping_df\n",
    "\n",
    "def calc_accuracy_stats_region_wise(parcel_region_mapping, model_root_path, aggregation_method):\n",
    "    \n",
    "    def calc_accuracy_per_region(df_region):\n",
    "        accuracy = accuracy_score(df_region[\"LABEL\"], df_region[\"PREDICTION\"])\n",
    "        f1 = f1_score(df_region[\"LABEL\"], df_region[\"PREDICTION\"], average=\"macro\", zero_division=0)\n",
    "        kappa = cohen_kappa_score(df_region[\"LABEL\"], df_region[\"PREDICTION\"])\n",
    "        return pd.Series({'F1 SCORE': f1, 'AGGREGATION_METHOD': aggregation_method})\n",
    "        #return pd.Series({'ACCURACY': accuracy, 'F1_SCORE': f1, 'KAPPA_SCORE': kappa, 'MODEL': aggregation_method})\n",
    "    \n",
    "    predictions_file = os.path.join(model_root_path, aggregation_method, \"predictions\", \"predicted_vs_true.csv\")\n",
    "    predictions = pd.read_csv(predictions_file)\n",
    "    predictions_with_region = pd.merge(parcel_region_mapping, predictions, on=\"PARCEL_ID\")\n",
    "    predictions_with_region = predictions_with_region.groupby(\"REGION\").apply(calc_accuracy_per_region).reset_index()\n",
    "    return predictions_with_region\n",
    "\n",
    "\n",
    "def seq_aggr_strategy_comparison_plot(results_padding, results_weekly_average, results_sampling):\n",
    "    all_results = pd.concat([results_padding, results_weekly_average, results_sampling])\n",
    "    all_results.replace({\"right_padding\": \"Right padding\", \"sampling\": \"Random sampling\", \"weekly_average\": \"Weekly average\"}, inplace=True)\n",
    "    all_results.rename(columns={\"SEQ_AGGR\": \"SEQUENCE AGGREGATION STRATEGY\", \"AVERAGE_CLASS_ACCURACY\": \"Class accuracy\", \"F1_SCORE\": \"F1 score\"}, inplace=True)\n",
    "    all_results = pd.melt(all_results, id_vars=['SEQUENCE AGGREGATION STRATEGY'], value_vars=['Class accuracy', 'F1 score'], var_name=\"Metric\", value_name=\"Score\")\n",
    "    fig_width = set_size(260)[0]\n",
    "    fig, axs = plt.subplots(figsize=(fig_width, 2.5))\n",
    "    boxplot = sns.boxplot(x=\"SEQUENCE AGGREGATION STRATEGY\", y=\"Score\",\n",
    "            hue=\"Metric\", palette=[\"m\", \"g\"],\n",
    "            data=all_results, ax = axs)\n",
    "    boxplot.set(xlabel=None)\n",
    "    fig.tight_layout()\n",
    "    plt.savefig(os.path.join(figures_base_path, 'seq_aggr_comparison.pdf'), dpi=400)\n",
    "    \n",
    "def seq_aggr_pos_enc_strategy_comparison_plot(results_padding, results_weekly_average, results_sampling):\n",
    "    all_results = pd.concat([results_padding, results_weekly_average, results_sampling])\n",
    "    all_results.sort_values(by=[\"AVERAGE_CLASS_ACCURACY\"], inplace=True, ascending=False)\n",
    "    all_results.replace({\"right_padding\": \"Right padding\", \"sampling\": \"Random sampling\", \"weekly_average\": \"Weekly average\", \"obs_aq_date\": \"Observation acquisition date\", \"seq_order\": \"Sequence order\"}, inplace=True)\n",
    "    all_results.rename(columns={\"SEQ_AGGR\": \"Aggregation approach\", \"F1_SCORE\": \"F1 score\", \"POS_ENC\": \"Positional encoding\"}, inplace=True)\n",
    "    all_results = pd.melt(all_results, id_vars=[\"Aggregation approach\", \"Positional encoding\"], value_vars=[\"F1 score\"], var_name=\"METRIC\", value_name=\"F1 score\")\n",
    "    \n",
    "    fig, axs = plt.subplots(figsize=(7, 6))\n",
    "    boxplot = sns.boxplot(x=\"Aggregation approach\", y=\"F1 score\",\n",
    "            hue=\"Positional encoding\", order=[\"Right padding\", \"Weekly average\", \"Random sampling\"],\n",
    "            data=all_results, ax = axs)\n",
    "    boxplot.set(xlabel=None)\n",
    "\n",
    "    plt.savefig(os.path.join(figure_results_path, 'pos_enc_comparison.eps'), dpi=400)\n",
    "\n",
    "\n",
    "\n",
    "def hyperparams_partial_dependence_plot(results_table):\n",
    "    \n",
    "    seq_aggr_strategy = results_table[\"SEQ_AGGR\"].values[0]\n",
    "    avg_result_num_layers = results_table.groupby([\"NUM_LAYERS\"]).agg({\"AVERAGE_CLASS_ACCURACY\": 'mean', \"F1_SCORE\": \"mean\"})\n",
    "    avg_result_num_heads = results_table.groupby([\"NUM_HEADS\"]).agg({\"AVERAGE_CLASS_ACCURACY\": 'mean', \"F1_SCORE\": \"mean\"})\n",
    "    avg_result_emb_dim = results_table.groupby([\"EMB_DIM\"]).agg({\"AVERAGE_CLASS_ACCURACY\": 'mean', \"F1_SCORE\": \"mean\"})\n",
    "    avg_result_emb_dim = avg_result_emb_dim.sort_index()\n",
    "    fig, axs = plt.subplots(nrows=1, ncols=3, figsize=(14, 6), sharey=True)\n",
    "    num_layers_dependence_plot = sns.lineplot(data=avg_result_num_layers, ax = axs[0])\n",
    "    num_heads_dependence_plot = sns.lineplot(data=avg_result_num_heads, ax = axs[1])\n",
    "    emb_dim_dependence_plot = sns.lineplot(data=avg_result_emb_dim, ax = axs[2])\n",
    "    fig.suptitle(\"Partial Dependence results for the {} sequence aggregation strategy\".format(seq_aggr_strategy))\n",
    "    \n",
    "\n",
    "def get_num_model_params(model_root_path, sequence_length, num_classes, pos_enc_opt, model_dim, num_layers, num_heads):\n",
    "    model_root_path = os.path.join(model_root_path, \"best_model.pth\")\n",
    "    init_model = init_model_with_hyper_params(\n",
    "        sequence_length,\n",
    "        num_classes,\n",
    "        pos_enc_opt,\n",
    "        model_dim,\n",
    "        num_layers,\n",
    "        num_heads,\n",
    "        False)\n",
    "    snapshot = torch.load(model_root_path, map_location=\"cpu\")\n",
    "    model_state = snapshot.pop('model_state', snapshot)\n",
    "    init_model.load_state_dict(model_state)\n",
    "    return sum(p.numel() for p in init_model.parameters() if p.requires_grad)\n",
    "    \n",
    "\n",
    "def calc_class_accuracy_diff_after_occlusion(conf_matrix_best_model, conf_matrix_model_after_occlusion):\n",
    "    relevant_classes_best_model_model_idx = conf_matrix_best_model.index.isin(conf_matrix_model_after_occlusion)\n",
    "    relevant_classes_accuracy_best_model = np.diag(conf_matrix_best_model)[relevant_classes_best_model_model_idx]\n",
    "    relevant_classes_accuracy_diff = np.diag(conf_matrix_model_after_occlusion) - relevant_classes_accuracy_best_model\n",
    "    relevant_classes_accuracy_diff_df = pd.DataFrame(data = relevant_classes_accuracy_diff, index=conf_matrix_model_after_occlusion.index, columns=[\"Accuracy change\"])\n",
    "    relevant_classes_accuracy_diff_df.index.names=[\"Class\"]\n",
    "    return relevant_classes_accuracy_diff_df.transpose()"
   ]
  },
  {
   "cell_type": "code",
   "execution_count": null,
   "metadata": {},
   "outputs": [],
   "source": [
    "seq_aggr_method = \"right_padding\"\n",
    "results_path = os.path.join(HYPERPARAMETER_TUNING_RESULTS_BASE_DIR, seq_aggr_method)\n",
    "right_padding_results = get_classification_results_per_seq_aggr_method(results_path)\n",
    "right_padding_results.sort_values(by=[\"AVERAGE_CLASS_ACCURACY\"], ascending=False)"
   ]
  },
  {
   "cell_type": "code",
   "execution_count": null,
   "metadata": {},
   "outputs": [],
   "source": [
    "seq_aggr_method = \"weekly_average\"\n",
    "results_path = os.path.join(HYPERPARAMETER_TUNING_RESULTS_BASE_DIR, seq_aggr_method)\n",
    "weekly_average_results = get_classification_results_per_seq_aggr_method(results_path)\n",
    "weekly_average_results\n",
    "#hyperparams_partial_dependence_plot(weekly_average_results)"
   ]
  },
  {
   "cell_type": "code",
   "execution_count": null,
   "metadata": {},
   "outputs": [],
   "source": [
    "seq_aggr_method = \"sampling\"\n",
    "results_path = os.path.join(HYPERPARAMETER_TUNING_RESULTS_BASE_DIR, seq_aggr_method)\n",
    "random_sampling_results = get_classification_results_per_seq_aggr_method(results_path)\n",
    "#hyperparams_partial_dependence_plot(random_sampling_results)\n",
    "averaged_sampling_results = random_sampling_results.groupby([\"SEQ_AGGR\", \"POS_ENC\", \"NUM_LAYERS\", \"NUM_HEADS\", \"EMB_DIM\"]).agg([\"mean\", \"var\"]).reset_index()\n",
    "averaged_sampling_results.sort_values(by=[(\"F1_SCORE\", \"mean\"), (\"AVERAGE_CLASS_ACCURACY\", \"mean\")], inplace=True, ascending=False)\n",
    "averaged_sampling_results"
   ]
  },
  {
   "cell_type": "code",
   "execution_count": null,
   "metadata": {},
   "outputs": [],
   "source": [
    "seq_aggr_strategy_comparison_plot(right_padding_results, weekly_average_results, random_sampling_results)"
   ]
  },
  {
   "cell_type": "code",
   "execution_count": 2,
   "metadata": {
    "scrolled": true
   },
   "outputs": [
    {
     "name": "stderr",
     "output_type": "stream",
     "text": [
      "C:\\Users\\Ivica Obadic\\PycharmProjects\\EOExplainability\\explainability_analysis\\classification_results_summarizer.py:34: FutureWarning: Support for multi-dimensional indexing (e.g. `obj[:, None]`) is deprecated and will be removed in a future version.  Convert to a numpy array before indexing instead.\n",
      "  confusion_matrix_normalized = confusion_matrix.astype('float') / confusion_matrix.sum(axis=1)[:, np.newaxis]\n",
      "C:\\Users\\Ivica Obadic\\PycharmProjects\\EOExplainability\\explainability_analysis\\classification_results_summarizer.py:34: FutureWarning: Support for multi-dimensional indexing (e.g. `obj[:, None]`) is deprecated and will be removed in a future version.  Convert to a numpy array before indexing instead.\n",
      "  confusion_matrix_normalized = confusion_matrix.astype('float') / confusion_matrix.sum(axis=1)[:, np.newaxis]\n",
      "C:\\Users\\Ivica Obadic\\PycharmProjects\\EOExplainability\\explainability_analysis\\classification_results_summarizer.py:34: FutureWarning: Support for multi-dimensional indexing (e.g. `obj[:, None]`) is deprecated and will be removed in a future version.  Convert to a numpy array before indexing instead.\n",
      "  confusion_matrix_normalized = confusion_matrix.astype('float') / confusion_matrix.sum(axis=1)[:, np.newaxis]\n",
      "C:\\Users\\Ivica Obadic\\PycharmProjects\\EOExplainability\\explainability_analysis\\classification_results_summarizer.py:34: FutureWarning: Support for multi-dimensional indexing (e.g. `obj[:, None]`) is deprecated and will be removed in a future version.  Convert to a numpy array before indexing instead.\n",
      "  confusion_matrix_normalized = confusion_matrix.astype('float') / confusion_matrix.sum(axis=1)[:, np.newaxis]\n"
     ]
    }
   ],
   "source": [
    "#confusion matrix analysis\n",
    "conf_matrix_fig_width = set_size(260)[0]\n",
    "conf_matrix_fig_height = 2.5\n",
    "\n",
    "BEST_MODEL_DIR = \"C:/Users/results/crop-type-classification-explainability/12_classes/\"\n",
    "BEST_MODEL_DIR = os.path.join(BEST_MODEL_DIR, \"right_padding\", \"obs_aq_date\", \"layers=1,heads=1,emb_dim=128\", \"all_dates\",\"1654184128\")\n",
    "confusion_matrix_best_model = read_confusion_matrix(BEST_MODEL_DIR)\n",
    "\n",
    "GRASSLAND_OCCLUSION_MODEL_DIR = \"C:/Users/results/crop-type-classification-explainability/11_classes/wo_grassland\"\n",
    "GRASSLAND_OCCLUSION_MODEL_DIR = os.path.join(GRASSLAND_OCCLUSION_MODEL_DIR, \"right_padding\", \"obs_aq_date\", \"layers=1,heads=1,emb_dim=128\", \"all_dates\",\"1654256822\")\n",
    "confusion_matrix_grassland_occlusion = read_confusion_matrix(GRASSLAND_OCCLUSION_MODEL_DIR)\n",
    "\n",
    "WINTER_BARLEY_OCCLUSION_MODEL_DIR = \"C:/Users/results/crop-type-classification-explainability/11_classes/wo_winter barley\"\n",
    "WINTER_BARLEY_OCCLUSION_MODEL_DIR = os.path.join(WINTER_BARLEY_OCCLUSION_MODEL_DIR, \"right_padding\", \"obs_aq_date\", \"layers=1,heads=1,emb_dim=128\", \"all_dates\",\"1654772571\")\n",
    "confusion_matrix_winter_barley_occlusion = read_confusion_matrix(WINTER_BARLEY_OCCLUSION_MODEL_DIR)\n",
    "\n",
    "CORN_OCCLUSION_MODEL_DIR = \"C:/Users/results/crop-type-classification-explainability/11_classes/wo_corn\"\n",
    "CORN_OCCLUSION_MODEL_DIR = os.path.join(CORN_OCCLUSION_MODEL_DIR, \"right_padding\", \"obs_aq_date\", \"layers=1,heads=1,emb_dim=128\", \"all_dates\",\"1654256851\")\n",
    "confusion_matrix_corn_occlusion = read_confusion_matrix(CORN_OCCLUSION_MODEL_DIR)"
   ]
  },
  {
   "cell_type": "code",
   "execution_count": 27,
   "metadata": {},
   "outputs": [
    {
     "data": {
      "image/png": "[encoded data removed]",
      "text/plain": [
       "<Figure size 259.029x180 with 1 Axes>"
      ]
     },
     "metadata": {
      "needs_background": "light"
     },
     "output_type": "display_data"
    }
   ],
   "source": [
    "confusion_matrix_fonts = {\n",
    "    #source: https://jwalton.info/Embed-Publication-Matplotlib-Latex/\n",
    "    # Use LaTeX to write all text\n",
    "    \"text.usetex\": True,\n",
    "    \"font.family\": \"serif\",\n",
    "    # Use 10pt font in plots, to match 10pt font in document\n",
    "    \"axes.labelsize\": 8,\n",
    "    \"axes.titlesize\": 10,\n",
    "    \"font.size\": 5,\n",
    "    # Make the legend/label fonts a little smaller\n",
    "    \"legend.fontsize\": 8,\n",
    "    \"xtick.labelsize\": 8,\n",
    "    \"ytick.labelsize\": 8\n",
    "}\n",
    "plt.rcParams.update(confusion_matrix_fonts)\n",
    "fig, axs = plt.subplots(ncols=1, figsize=(conf_matrix_fig_width, conf_matrix_fig_height))\n",
    "\n",
    "cmn_plot = sns.heatmap(confusion_matrix_best_model, annot=True, cmap=\"Blues\", cbar=None, fmt='.2f')\n",
    "cmn_plot.set_xlabel(\"Predicted class\")\n",
    "\n",
    "fig.tight_layout()\n",
    "plt.savefig(os.path.join(figures_base_path, 'conf_matr_best_model.pdf'))"
   ]
  },
  {
   "cell_type": "code",
   "execution_count": 28,
   "metadata": {},
   "outputs": [
    {
     "data": {
      "image/png": "[encoded data removed]",
      "text/plain": [
       "<Figure size 259.029x180 with 1 Axes>"
      ]
     },
     "metadata": {
      "needs_background": "light"
     },
     "output_type": "display_data"
    }
   ],
   "source": [
    "fig, axs = plt.subplots(ncols=1, figsize=(conf_matrix_fig_width, conf_matrix_fig_height))\n",
    "\n",
    "cmn_plot = sns.heatmap(confusion_matrix_grassland_occlusion, annot=True, cmap=\"Blues\", cbar=None, fmt='.2f')\n",
    "cmn_plot.set_xlabel(\"Predicted class\")\n",
    "\n",
    "fig.tight_layout()\n",
    "plt.savefig(os.path.join(figures_base_path, 'conf_matr_grassland_occlusion.pdf'))"
   ]
  },
  {
   "cell_type": "code",
   "execution_count": 29,
   "metadata": {},
   "outputs": [
    {
     "data": {
      "image/png": "[encoded data removed]",
      "text/plain": [
       "<Figure size 259.029x180 with 1 Axes>"
      ]
     },
     "metadata": {
      "needs_background": "light"
     },
     "output_type": "display_data"
    }
   ],
   "source": [
    "fig, axs = plt.subplots(ncols=1, figsize=(conf_matrix_fig_width, conf_matrix_fig_height))\n",
    "\n",
    "cmn_plot = sns.heatmap(confusion_matrix_winter_barley_occlusion, annot=True, cmap=\"Blues\", cbar=None, fmt='.2f')\n",
    "cmn_plot.set_xlabel(\"Predicted class\")\n",
    "\n",
    "fig.tight_layout()\n",
    "plt.savefig(os.path.join(figures_base_path, 'conf_matr_winter_barley_occlusion.pdf'))"
   ]
  },
  {
   "cell_type": "code",
   "execution_count": 30,
   "metadata": {},
   "outputs": [
    {
     "data": {
      "image/png": "[encoded data removed]",
      "text/plain": [
       "<Figure size 259.029x180 with 1 Axes>"
      ]
     },
     "metadata": {
      "needs_background": "light"
     },
     "output_type": "display_data"
    }
   ],
   "source": [
    "fig, axs = plt.subplots(ncols=1, figsize=(conf_matrix_fig_width, conf_matrix_fig_height))\n",
    "\n",
    "cmn_plot = sns.heatmap(confusion_matrix_corn_occlusion, annot=True, cmap=\"Blues\", cbar=None, fmt='.2f')\n",
    "cmn_plot.set_xlabel(\"Predicted class\")\n",
    "\n",
    "fig.tight_layout()\n",
    "plt.savefig(os.path.join(figures_base_path, 'conf_matr_corn_occlusion.pdf'))"
   ]
  },
  {
   "cell_type": "code",
   "execution_count": 31,
   "metadata": {},
   "outputs": [],
   "source": [
    "class_accuracy_diff_grassland_occlusion = calc_class_accuracy_diff_after_occlusion(confusion_matrix_best_model, confusion_matrix_grassland_occlusion)\n",
    "class_accuracy_diff_winter_barley_occlusion = calc_class_accuracy_diff_after_occlusion(confusion_matrix_best_model, confusion_matrix_winter_barley_occlusion)\n",
    "class_accuracy_diff_corn_occlusion = calc_class_accuracy_diff_after_occlusion(confusion_matrix_best_model, confusion_matrix_corn_occlusion)"
   ]
  },
  {
   "cell_type": "code",
   "execution_count": 32,
   "metadata": {},
   "outputs": [],
   "source": [
    "max_values = [class_accuracy_diff_grassland_occlusion.max(axis=1).item(),\n",
    "              class_accuracy_diff_winter_barley_occlusion.max(axis=1).item(),\n",
    "              class_accuracy_diff_corn_occlusion.max(axis=1).item()]\n",
    "max_cmap_value = max(max_values)\n",
    "\n",
    "min_values = [class_accuracy_diff_grassland_occlusion.min(axis=1).item(),\n",
    "              class_accuracy_diff_winter_barley_occlusion.min(axis=1).item(),\n",
    "              class_accuracy_diff_corn_occlusion.min(axis=1).item()]\n",
    "min_cmap_value = min(min_values)"
   ]
  },
  {
   "cell_type": "code",
   "execution_count": 39,
   "metadata": {},
   "outputs": [
    {
     "data": {
      "image/png": "[encoded data removed]",
      "text/plain": [
       "<Figure size 259.029x108 with 1 Axes>"
      ]
     },
     "metadata": {
      "needs_background": "light"
     },
     "output_type": "display_data"
    }
   ],
   "source": [
    "fig, axs = plt.subplots(ncols=1, figsize=(conf_matrix_fig_width, 1.5))\n",
    "\n",
    "cmn_plot = sns.heatmap(class_accuracy_diff_grassland_occlusion, annot=True, vmin=min_cmap_value, vmax=max_cmap_value,  cbar=None, fmt='.2f', square=True, yticklabels=False)\n",
    "axs.set_title(\"Accuracy change\")\n",
    "fig.tight_layout()\n",
    "plt.savefig(os.path.join(figures_base_path, 'accuracy_change_grassland_occlusion.pdf'))"
   ]
  },
  {
   "cell_type": "code",
   "execution_count": 40,
   "metadata": {},
   "outputs": [
    {
     "data": {
      "image/png": "[encoded data removed]",
      "text/plain": [
       "<Figure size 259.029x108 with 1 Axes>"
      ]
     },
     "metadata": {
      "needs_background": "light"
     },
     "output_type": "display_data"
    }
   ],
   "source": [
    "fig, axs = plt.subplots(ncols=1, figsize=(conf_matrix_fig_width, 1.5))\n",
    "\n",
    "cmn_plot = sns.heatmap(class_accuracy_diff_winter_barley_occlusion, annot=True, vmin=min_cmap_value, vmax=max_cmap_value, cbar=None, fmt='.2f', square=True, yticklabels=False)\n",
    "axs.set_title(\"Accuracy change\")\n",
    "fig.tight_layout()\n",
    "plt.savefig(os.path.join(figures_base_path, 'accuracy_change_winter_barley_occlusion.pdf'))"
   ]
  },
  {
   "cell_type": "code",
   "execution_count": 41,
   "metadata": {},
   "outputs": [
    {
     "data": {
      "image/png": "[encoded data removed]",
      "text/plain": [
       "<Figure size 259.029x108 with 1 Axes>"
      ]
     },
     "metadata": {
      "needs_background": "light"
     },
     "output_type": "display_data"
    }
   ],
   "source": [
    "fig, axs = plt.subplots(ncols=1, figsize=(conf_matrix_fig_width, 1.5))\n",
    "\n",
    "cmn_plot = sns.heatmap(class_accuracy_diff_corn_occlusion, annot=True, vmin=min_cmap_value, vmax=max_cmap_value, cbar=None, fmt='.2f', square=True, yticklabels=False)\n",
    "axs.set_title(\"Accuracy change\")\n",
    "fig.tight_layout()\n",
    "plt.savefig(os.path.join(figures_base_path, 'accuracy_change_corn_occlusion.pdf'))"
   ]
  }
 ],
 "metadata": {
  "kernelspec": {
   "display_name": "Python 3 (ipykernel)",
   "language": "python",
   "name": "python3"
  },
  "language_info": {
   "codemirror_mode": {
    "name": "ipython",
    "version": 3
   },
   "file_extension": ".py",
   "mimetype": "text/x-python",
   "name": "python",
   "nbconvert_exporter": "python",
   "pygments_lexer": "ipython3",
   "version": "3.8.12"
  }
 },
 "nbformat": 4,
 "nbformat_minor": 4
}
