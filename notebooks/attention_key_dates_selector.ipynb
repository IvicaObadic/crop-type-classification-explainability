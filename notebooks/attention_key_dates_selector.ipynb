{
 "cells": [
  {
   "cell_type": "code",
   "execution_count": 2,
   "id": "dc8966a5",
   "metadata": {},
   "outputs": [
    {
     "name": "stdout",
     "output_type": "stream",
     "text": [
      "C:\\Users\\Ivica Obadic\\PycharmProjects\\EOExplainability\n"
     ]
    }
   ],
   "source": [
    "import numpy as np\n",
    "import pandas as pd\n",
    "import pickle\n",
    "import sys\n",
    "import os\n",
    "import torch\n",
    "from sklearn.metrics import cohen_kappa_score\n",
    "import matplotlib.pyplot as plt\n",
    "import seaborn as sns\n",
    "import plotly.express as px\n",
    "import plotly.graph_objects as go\n",
    "\n",
    "\n",
    "module_path = os.path.abspath(os.path.join('..'))\n",
    "\n",
    "if module_path not in sys.path:\n",
    "    sys.path.append(module_path)\n",
    "print(module_path)\n",
    "\n",
    "from datasets import dataset_utils\n",
    "from datasets import sequence_aggregator\n",
    "from explainability_analysis.visualization_functions import * \n",
    "from explainability_analysis.transformer_analysis import *\n",
    "from explainability_analysis.crop_spectral_signature_analysis import * \n",
    "from explainability_analysis.classification_results_summarizer import * \n",
    "from explainability_analysis.visualization_constants import *\n",
    "\n",
    "plt.rcParams.update(poster_fonts)\n",
    "\n",
    "figures_base_path = os.path.join(FIGURES_BASE_PATH, \"attention_key_dates_selector\")\n",
    "\n",
    "num_classes = 12\n",
    "max_sequence_length = 144\n",
    "\n",
    "def get_used_dates_for_model_results(num_dates_used, accuracy_per_top_n_dates, avg_attention_per_obs_acq_date_orig_model):\n",
    "    \n",
    "    result_dfs = []\n",
    "    for num_dates in num_dates_used:\n",
    "        dates_used = list(avg_attention_per_obs_acq_date_orig_model.reset_index().iloc[0:num_dates][\"Date\"].values)\n",
    "        accuracy = accuracy_per_top_n_dates.loc[accuracy_per_top_n_dates[\"Num. dates\"] == num_dates][\"Class accuracy\"].values[0]\n",
    "        dates_with_accuracy = {\n",
    "            \"Date\": dates_used,\n",
    "            \"Class accuracy\": [accuracy] * len(dates_used),\n",
    "            \"Num. dates\": [num_dates] * len(dates_used)}\n",
    "        result_dfs.append(pd.DataFrame(dates_with_accuracy))\n",
    "        \n",
    "    return pd.concat(result_dfs, ignore_index=True).sort_values(by=\"Date\")"
   ]
  },
  {
   "cell_type": "code",
   "execution_count": 20,
   "id": "c55da207",
   "metadata": {},
   "outputs": [
    {
     "name": "stdout",
     "output_type": "stream",
     "text": [
      "Reading the precomputed attention weights from C:/Users/results/crop-type-classification-explainability//12_classes/right_padding/obs_aq_date/layers=1,heads=1,emb_dim=128/all_dates\\1654184128\\predictions\\attn_weights\\postprocessed\\parcel_temporal_attention.csv\n"
     ]
    }
   ],
   "source": [
    "dataset_folder = \"C:/Users/datasets/BavarianCrops/\"\n",
    "model_root_path = \"C:/Users/results/crop-type-classification-explainability/\"\n",
    "temporal_attn_weights, avg_attention_per_obs_acq_date = get_temporal_attn_weights(model_root_path, \"all_dates\", \"1654184128\")\n",
    "model_full_path = get_model_path(None, \"all_dates\", \"1654184128\", model_root_path, False)\n",
    "avg_attention_per_obs_acq_date.to_csv(os.path.join(model_full_path, \"key_attention_dates.csv\"))"
   ]
  },
  {
   "cell_type": "code",
   "execution_count": null,
   "id": "5181d724",
   "metadata": {},
   "outputs": [],
   "source": [
    "accuracy_per_top_n_dates = pd.read_csv(os.path.join(model_root_path, \"num_dates_accuracy_results.csv\"), index_col=0)\n",
    "accuracy_per_top_n_dates[\"Num. dates\"] = accuracy_per_top_n_dates[\"Num. dates\"].astype(int)\n",
    "accuracy_model_all_dates = read_classification_results(model_root_path)\n",
    "\n",
    "avg_attention_per_obs_acq_date_orig_model = sort_obs_acq_dates_by_attention(model_root_path)\n",
    "avg_attention_per_obs_acq_date_orig_model"
   ]
  },
  {
   "cell_type": "code",
   "execution_count": 16,
   "id": "be561386",
   "metadata": {},
   "outputs": [
    {
     "data": {
      "image/png": "[encoded data removed]",
      "text/plain": [
       "<Figure size 348.692x216 with 1 Axes>"
      ]
     },
     "metadata": {
      "needs_background": "light"
     },
     "output_type": "display_data"
    }
   ],
   "source": [
    "fig_dim = set_size(350)\n",
    "fig, axs = plt.subplots(figsize=(fig_dim[0], 2.5))\n",
    "\n",
    "axs = sns.scatterplot(data=accuracy_per_top_n_dates, x=\"Num. dates\", y=\"Class accuracy\", s=80)\n",
    "\n",
    "axs.axhline(accuracy_model_all_dates[0], c='red', label=\"All dates\")\n",
    "\n",
    "legend_handles = axs.get_legend_handles_labels()\n",
    "axs.legend(loc = 4)\n",
    "\n",
    "fig.tight_layout()\n",
    "plt.savefig(os.path.join(figures_base_path, 'accuracy_vs_num_attn_key_dates.pdf'))"
   ]
  },
  {
   "cell_type": "code",
   "execution_count": null,
   "id": "70f7f296",
   "metadata": {},
   "outputs": [],
   "source": [
    "fig = px.scatter(\n",
    "    accuracy_per_top_n_dates,\n",
    "    x=\"Num. dates\",\n",
    "    y='Class accuracy')\n",
    "\n",
    "original_model_results_x = np.arange(min(accuracy_per_top_n_dates[\"Num. dates\"]),\n",
    "                                     max(accuracy_per_top_n_dates[\"Num. dates\"])+1,\n",
    "                                    step=1)\n",
    "y = [accuracy_model_all_dates[0]] * len(original_model_results_x)\n",
    "fig.add_trace(go.Scatter(x=original_model_results_x,\n",
    "                         y=y, \n",
    "                         mode='lines', \n",
    "                         line=dict(color='red', width=2),\n",
    "                         name='All dates'))\n",
    "# fig.add_hline(y=original_model_result[0], line_color=\"red\", annotation_text=\"All dates\",\n",
    "#               annotation_position=\"top left\")\n",
    "fig.update_layout(\n",
    "    margin=dict(l=5, r=5, t=5, b=5),\n",
    "    showlegend = True,\n",
    "    font_family=\"Serif\",\n",
    "    font_size=14,\n",
    "    width=300,\n",
    "    height=250,\n",
    "    legend=dict(\n",
    "        #yanchor=\"top\",\n",
    "        y=0.8,\n",
    "        xanchor=\"right\"))\n",
    "fig.show()\n",
    "fig.write_image(os.path.join(figures_base_path, \"accuracy_vs_num_attn_key_dates.pdf\"))"
   ]
  },
  {
   "cell_type": "code",
   "execution_count": null,
   "id": "bb3a50f3",
   "metadata": {},
   "outputs": [],
   "source": [
    "accuracy_per_top_n_dates.loc[accuracy_per_top_n_dates[\"Num. dates\"] == 1][\"Class accuracy\"] / accuracy_model_all_dates[0]"
   ]
  },
  {
   "cell_type": "code",
   "execution_count": null,
   "id": "280b2201",
   "metadata": {},
   "outputs": [],
   "source": [
    "dates_and_accuracy_results = get_used_dates_for_model_results([1, 2, 3, 5, 10, 20], accuracy_per_top_n_dates, avg_attention_per_obs_acq_date_orig_model)\n",
    "fig = px.scatter(\n",
    "    dates_and_accuracy_results,\n",
    "    x=\"Date\",\n",
    "    y='Class accuracy',\n",
    "    color=\"Num. dates\")\n",
    "fig.update_layout(\n",
    "    margin=dict(l=5, r=5, t=5, b=5),\n",
    "    showlegend = True,\n",
    "    font_family=\"Serif\",\n",
    "    font_size=14,\n",
    "    width=300,\n",
    "    height=250,\n",
    "    legend=dict(\n",
    "        #yanchor=\"top\",\n",
    "        x=0.1,\n",
    "        xanchor=\"left\"))\n",
    "fig.show()\n",
    "fig.write_image(os.path.join(figures_base_path, \"key_dates_visualization.pdf\"))"
   ]
  }
 ],
 "metadata": {
  "kernelspec": {
   "display_name": "Python 3 (ipykernel)",
   "language": "python",
   "name": "python3"
  },
  "language_info": {
   "codemirror_mode": {
    "name": "ipython",
    "version": 3
   },
   "file_extension": ".py",
   "mimetype": "text/x-python",
   "name": "python",
   "nbconvert_exporter": "python",
   "pygments_lexer": "ipython3",
   "version": "3.8.12"
  }
 },
 "nbformat": 4,
 "nbformat_minor": 5
}
