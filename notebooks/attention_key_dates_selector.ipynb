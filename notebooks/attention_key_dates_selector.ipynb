{
 "cells": [
  {
   "cell_type": "code",
   "execution_count": 1,
   "id": "dc8966a5",
   "metadata": {},
   "outputs": [
    {
     "name": "stdout",
     "output_type": "stream",
     "text": [
      "C:\\Users\\Ivica Obadic\\PycharmProjects\\EOExplainability\n"
     ]
    }
   ],
   "source": [
    "import numpy as np\n",
    "import pandas as pd\n",
    "import pickle\n",
    "import sys\n",
    "import os\n",
    "import torch\n",
    "from sklearn.metrics import cohen_kappa_score\n",
    "import matplotlib.pyplot as plt\n",
    "import seaborn as sns\n",
    "\n",
    "module_path = os.path.abspath(os.path.join('..'))\n",
    "\n",
    "if module_path not in sys.path:\n",
    "    sys.path.append(module_path)\n",
    "print(module_path)\n",
    "from datasets import dataset_utils\n",
    "from datasets import sequence_aggregator\n",
    "from explainability_analysis.visualization_functions import * \n",
    "from explainability_analysis.transformer_analysis import *\n",
    "from explainability_analysis.crop_spectral_signature_analysis import * \n",
    "from explainability_analysis.classification_results_summarizer import * \n",
    "\n",
    "num_classes = 12\n",
    "max_sequence_length = 144\n",
    "\n",
    "def sort_obs_acq_dates_by_attention(model_root_path):\n",
    "    \n",
    "    predictions_path = os.path.join(model_root_path, \"predictions\")\n",
    "    predicted_vs_true_results = pd.read_csv(os.path.join(predictions_path, \"predicted_vs_true.csv\"))\n",
    "    attn_weights_path = os.path.join(predictions_path, \"attn_weights\", \"postprocessed\")\n",
    "    \n",
    "    total_temporal_attention = summarize_attention_weights_as_feature_embeddings(attn_weights_path, \"layer_0\", summary_fn=\"sum\")\n",
    "    attention_per_obs_acq_date = pd.concat([v for k,v in total_temporal_attention.items()])\n",
    "    \n",
    "    avg_attention_per_obs_acq_date = attention_per_obs_acq_date.mean().sort_values(ascending=False)\n",
    "    avg_attention_per_obs_acq_date = avg_attention_per_obs_acq_date.to_frame()\n",
    "    avg_attention_per_obs_acq_date.index.name=\"DATE\"\n",
    "    avg_attention_per_obs_acq_date.columns=[\"TOTAL_TEMPORAL_ATTENTION\"]\n",
    "    avg_attention_per_obs_acq_date.index = avg_attention_per_obs_acq_date.index.map(lambda x: \"2018-{}-{}\".format(x.split(\"-\")[1], x.split(\"-\")[0]))\n",
    "    avg_attention_per_obs_acq_date.to_csv(os.path.join(attn_weights_path, \"key_attention_dates.csv\"))\n",
    "    return avg_attention_per_obs_acq_date\n",
    "\n",
    "\n",
    "def get_most_important_dates_for_percentage_scores(percentages, perc_dates_results, avg_attention_per_obs_acq_date_orig_model):\n",
    "    \n",
    "    result_dfs = []\n",
    "    for perc in percentages:\n",
    "        num_top_n_perc_dates = round((perc / 100.0) * max_sequence_length)\n",
    "        top_n_perc_dates = avg_attention_per_obs_acq_date_orig_model.iloc[0:num_top_n_perc_dates].reset_index()\n",
    "        top_n_perc_dates[\"PERCENTAGE\"] = perc\n",
    "        top_n_perc_dates[\"DATE\"] = pd.to_datetime(top_n_perc_dates[\"DATE\"]).apply(lambda date: date.strftime(\"%m-%d\"))\n",
    "        #top_n_perc_dates[\"DATE\"] = top_n_perc_dates[\"DATE\"].apply(lambda date: date[date.index(\"-\") + 1:])\n",
    "        top_n_perc_dates_with_accuracy = pd.merge(top_n_perc_dates, perc_dates_results, left_on=\"PERCENTAGE\", right_on=\"Percent of observations\")\n",
    "        result_dfs.append(top_n_perc_dates_with_accuracy)\n",
    "    \n",
    "    return pd.concat(result_dfs, ignore_index=True).sort_values(by=\"DATE\")"
   ]
  },
  {
   "cell_type": "code",
   "execution_count": null,
   "id": "c55da207",
   "metadata": {},
   "outputs": [],
   "source": [
    "dataset_folder = \"C:/Users/datasets/BavarianCrops/\"\n",
    "model_root_path = \"C:/Users/results/{}_classes//right_padding/obs_aq_date/layers=1,heads=1,emb_dim=128/\"\n",
    "model_root_path = model_root_path.format(num_classes)\n",
    "\n",
    "avg_attention_per_obs_acq_date_orig_model = sort_obs_acq_dates_by_attention(model_root_path)"
   ]
  },
  {
   "cell_type": "code",
   "execution_count": null,
   "id": "8fbd1e6c",
   "metadata": {},
   "outputs": [],
   "source": [
    "original_model_result = read_classification_results(model_root_path)\n",
    "perc_dates_results = pd.read_csv(os.path.join(model_root_path, \"perc_accuracy_results.csv\"), index_col=0)\n",
    "\n",
    "fig, axs = plt.subplots(figsize=(8, 6))\n",
    "sns.lineplot(data=perc_dates_results, x=\"Percent of observations\", y='Class accuracy', hue=\"Model type\", style=\"Model type\", ci=\"sd\",ax=axs, markers=True, dashes=False)\n",
    "axs.axhline(y=original_model_result[0], c='red', linestyle='dashed', label=\"Entire Dataset\")\n",
    "axs.legend(loc=\"upper right\")"
   ]
  },
  {
   "cell_type": "code",
   "execution_count": null,
   "id": "280b2201",
   "metadata": {},
   "outputs": [],
   "source": [
    "perc_dates_avg_results = perc_dates_results.groupby([\"Percent of observations\"]).agg(\"mean\").reset_index()\n",
    "most_important_dates_for_percentage_scores = get_most_important_dates_for_percentage_scores([2, 3, 5, 6, 7, 8, 9], perc_dates_avg_results, avg_attention_per_obs_acq_date_orig_model)\n",
    "fig, axs = plt.subplots(figsize=(14, 8))\n",
    "sns.scatterplot(data=most_important_dates_for_percentage_scores, x=\"DATE\", y='Class accuracy', hue=\"Percent of observations\", ax=axs)"
   ]
  }
 ],
 "metadata": {
  "kernelspec": {
   "display_name": "Python 3 (ipykernel)",
   "language": "python",
   "name": "python3"
  },
  "language_info": {
   "codemirror_mode": {
    "name": "ipython",
    "version": 3
   },
   "file_extension": ".py",
   "mimetype": "text/x-python",
   "name": "python",
   "nbconvert_exporter": "python",
   "pygments_lexer": "ipython3",
   "version": "3.8.12"
  }
 },
 "nbformat": 4,
 "nbformat_minor": 5
}
