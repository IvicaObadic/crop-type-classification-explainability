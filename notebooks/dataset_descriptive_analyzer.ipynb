{
 "cells": [
  {
   "cell_type": "code",
   "execution_count": 2,
   "metadata": {},
   "outputs": [
    {
     "name": "stdout",
     "output_type": "stream",
     "text": [
      "C:\\Users\\Ivica Obadic\\PycharmProjects\\EOExplainability\n"
     ]
    }
   ],
   "source": [
    "import sys, os\n",
    "os.environ[\"KMP_DUPLICATE_LIB_OK\"]=\"TRUE\"\n",
    "module_path = os.path.abspath(os.path.join('..'))\n",
    "if module_path not in sys.path:\n",
    "    sys.path.append(module_path)\n",
    "print(module_path)\n",
    "\n",
    "from explainability_analysis.crop_spectral_signature_analysis import *\n",
    "from explainability_analysis.visualization_functions import *\n",
    "from explainability_analysis.visualization_constants import *\n",
    "from explainability_analysis.transformer_analysis import CLASSES_TO_EXCLUDE\n",
    "\n",
    "\n",
    "import matplotlib.pyplot as plt\n",
    "plt.rcParams.update(tex_fonts)\n",
    "import seaborn as sns\n",
    "\n",
    "figures_base_path = os.path.join(FIGURES_BASE_PATH, \"appendix\")"
   ]
  },
  {
   "cell_type": "code",
   "execution_count": 3,
   "metadata": {},
   "outputs": [
    {
     "name": "stdout",
     "output_type": "stream",
     "text": [
      "Initializing BavarianCropsDataset train partition in holl\n",
      "read 12 classes\n",
      "precached dataset files found at C:/Users/datasets/BavarianCrops/npy\\12_classes\\blocks\\holl\\train\n",
      "Dataset C:/Users/datasets/BavarianCrops/. region holl. partition train.X:20858x(71, 16), y:(20858,) with 12 classes\n",
      "Initializing BavarianCropsDataset valid partition in holl\n",
      "read 12 classes\n",
      "precached dataset files found at C:/Users/datasets/BavarianCrops/npy\\12_classes\\blocks\\holl\\valid\n",
      "Dataset C:/Users/datasets/BavarianCrops/. region holl. partition valid.X:3909x(144, 16), y:(3909,) with 12 classes\n",
      "Initializing BavarianCropsDataset test partition in holl\n",
      "read 12 classes\n",
      "precached dataset files found at C:/Users/datasets/BavarianCrops/npy\\12_classes\\blocks\\holl\\test\n",
      "Dataset C:/Users/datasets/BavarianCrops/. region holl. partition test.X:9583x(144, 16), y:(9583,) with 12 classes\n",
      "Initializing BavarianCropsDataset train partition in krum\n",
      "read 12 classes\n",
      "precached dataset files found at C:/Users/datasets/BavarianCrops/npy\\12_classes\\blocks\\krum\\train\n",
      "Dataset C:/Users/datasets/BavarianCrops/. region krum. partition train.X:19601x(70, 16), y:(19601,) with 12 classes\n",
      "Initializing BavarianCropsDataset valid partition in krum\n",
      "read 12 classes\n",
      "precached dataset files found at C:/Users/datasets/BavarianCrops/npy\\12_classes\\blocks\\krum\\valid\n",
      "Dataset C:/Users/datasets/BavarianCrops/. region krum. partition valid.X:5482x(70, 16), y:(5482,) with 12 classes\n",
      "Initializing BavarianCropsDataset test partition in krum\n",
      "read 12 classes\n",
      "precached dataset files found at C:/Users/datasets/BavarianCrops/npy\\12_classes\\blocks\\krum\\test\n",
      "Dataset C:/Users/datasets/BavarianCrops/. region krum. partition test.X:4278x(71, 16), y:(4278,) with 12 classes\n",
      "Initializing BavarianCropsDataset train partition in nowa\n",
      "read 12 classes\n",
      "precached dataset files found at C:/Users/datasets/BavarianCrops/npy\\12_classes\\blocks\\nowa\\train\n",
      "Dataset C:/Users/datasets/BavarianCrops/. region nowa. partition train.X:7679x(144, 16), y:(7679,) with 12 classes\n",
      "Initializing BavarianCropsDataset valid partition in nowa\n",
      "read 12 classes\n",
      "precached dataset files found at C:/Users/datasets/BavarianCrops/npy\\12_classes\\blocks\\nowa\\valid\n",
      "Dataset C:/Users/datasets/BavarianCrops/. region nowa. partition valid.X:746x(144, 16), y:(746,) with 12 classes\n",
      "Initializing BavarianCropsDataset test partition in nowa\n",
      "read 12 classes\n",
      "precached dataset files found at C:/Users/datasets/BavarianCrops/npy\\12_classes\\blocks\\nowa\\test\n",
      "Dataset C:/Users/datasets/BavarianCrops/. region nowa. partition test.X:3547x(144, 16), y:(3547,) with 12 classes\n",
      "Max sequence length is 144\n",
      "Calculating spectral indices for dataset: holl_test\n",
      "Calculating spectral indices for dataset: krum_test\n",
      "Calculating spectral indices for dataset: nowa_test\n"
     ]
    }
   ],
   "source": [
    "spectral_indices = get_dataset_spectral_indices()"
   ]
  },
  {
   "cell_type": "code",
   "execution_count": 4,
   "metadata": {},
   "outputs": [],
   "source": [
    "spectral_indices_most_frequent_classes = spectral_indices.loc[~spectral_indices[\"Crop type\"].isin(CLASSES_TO_EXCLUDE)]\n",
    "spectral_indices_most_frequent_classes = spectral_indices_most_frequent_classes.groupby([\"Date\", \"Crop type\"])[\"NDVI\"].mean().reset_index()"
   ]
  },
  {
   "cell_type": "code",
   "execution_count": 1,
   "metadata": {},
   "outputs": [
    {
     "ename": "NameError",
     "evalue": "name 'set_size' is not defined",
     "output_type": "error",
     "traceback": [
      "\u001b[1;31m---------------------------------------------------------------------------\u001b[0m",
      "\u001b[1;31mNameError\u001b[0m                                 Traceback (most recent call last)",
      "Input \u001b[1;32mIn [1]\u001b[0m, in \u001b[0;36m<cell line: 1>\u001b[1;34m()\u001b[0m\n\u001b[1;32m----> 1\u001b[0m fig_width \u001b[38;5;241m=\u001b[39m \u001b[43mset_size\u001b[49m(\u001b[38;5;241m260\u001b[39m)[\u001b[38;5;241m0\u001b[39m]\n\u001b[0;32m      2\u001b[0m fig, axs \u001b[38;5;241m=\u001b[39m plt\u001b[38;5;241m.\u001b[39msubplots(figsize\u001b[38;5;241m=\u001b[39m(fig_width, \u001b[38;5;241m2.5\u001b[39m))\n\u001b[0;32m      3\u001b[0m axs \u001b[38;5;241m=\u001b[39m sns\u001b[38;5;241m.\u001b[39mlineplot(data\u001b[38;5;241m=\u001b[39mspectral_indices_most_frequent_classes, x\u001b[38;5;241m=\u001b[39m\u001b[38;5;124m\"\u001b[39m\u001b[38;5;124mDate\u001b[39m\u001b[38;5;124m\"\u001b[39m, y\u001b[38;5;241m=\u001b[39m\u001b[38;5;124m\"\u001b[39m\u001b[38;5;124mNDVI\u001b[39m\u001b[38;5;124m\"\u001b[39m, hue\u001b[38;5;241m=\u001b[39m\u001b[38;5;124m\"\u001b[39m\u001b[38;5;124mCrop type\u001b[39m\u001b[38;5;124m\"\u001b[39m, estimator\u001b[38;5;241m=\u001b[39m\u001b[38;5;124m\"\u001b[39m\u001b[38;5;124mmean\u001b[39m\u001b[38;5;124m\"\u001b[39m,ci\u001b[38;5;241m=\u001b[39m\u001b[38;5;28;01mNone\u001b[39;00m, ax \u001b[38;5;241m=\u001b[39m axs, palette\u001b[38;5;241m=\u001b[39mCROP_TYPE_COLOR_MAPPING)\n",
      "\u001b[1;31mNameError\u001b[0m: name 'set_size' is not defined"
     ]
    }
   ],
   "source": [
    "fig_width = set_size(260)[0]\n",
    "fig, axs = plt.subplots(figsize=(fig_width, 2.5))\n",
    "axs = sns.lineplot(data=spectral_indices_most_frequent_classes, x=\"Date\", y=\"NDVI\", hue=\"Crop type\", estimator=\"mean\",ci=None, ax = axs, palette=CROP_TYPE_COLOR_MAPPING)\n",
    "axs.xaxis.set_major_formatter(DATE_FORMATTER)\n",
    "axs.tick_params(axis='x', rotation=45)\n",
    "axs.set_ylim(-0.05, 1)\n",
    "axs.legend(loc=\"best\")\n",
    "fig.tight_layout()\n",
    "plt.savefig(os.path.join(figures_base_path, 'ndvi_over_time.pdf'))\n",
    "plt.savefig(os.path.join(figures_base_path, 'ndvi_over_time.png'))"
   ]
  }
 ],
 "metadata": {
  "kernelspec": {
   "display_name": "Python 3 (ipykernel)",
   "language": "python",
   "name": "python3"
  },
  "language_info": {
   "codemirror_mode": {
    "name": "ipython",
    "version": 3
   },
   "file_extension": ".py",
   "mimetype": "text/x-python",
   "name": "python",
   "nbconvert_exporter": "python",
   "pygments_lexer": "ipython3",
   "version": "3.8.12"
  }
 },
 "nbformat": 4,
 "nbformat_minor": 4
}
