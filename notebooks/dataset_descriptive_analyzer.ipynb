{
 "cells": [
  {
   "cell_type": "code",
   "execution_count": 3,
   "metadata": {},
   "outputs": [
    {
     "name": "stdout",
     "output_type": "stream",
     "text": [
      "C:\\Users\\Ivica Obadic\\PycharmProjects\\EOExplainability\n"
     ]
    }
   ],
   "source": [
    "import sys, os\n",
    "\n",
    "module_path = os.path.abspath(os.path.join('..'))\n",
    "if module_path not in sys.path:\n",
    "    sys.path.append(module_path)\n",
    "print(module_path)\n",
    "\n",
    "from datasets import dataset_utils\n",
    "from datasets.sequence_aggregator import *\n",
    "import matplotlib.pyplot as plt\n",
    "import seaborn as sns"
   ]
  },
  {
   "cell_type": "code",
   "execution_count": 4,
   "metadata": {},
   "outputs": [
    {
     "name": "stdout",
     "output_type": "stream",
     "text": [
      "Initializing BavarianCropsDataset train partition in holl\n",
      "read 12 classes\n",
      "precached dataset files found at C:/Users/Ivica Obadic/Desktop/Explainable Machine Learning in Earth Observations/Projects/EO_explainability_survey/Datasets/BavarianCrops/npy\\classmapping12.csv\\blocks\\holl\\train\n",
      "loaded 20858 samples\n",
      "Dataset C:/Users/Ivica Obadic/Desktop/Explainable Machine Learning in Earth Observations/Projects/EO_explainability_survey/Datasets/BavarianCrops/. region holl. partition train. X:20858x(71, 16), y:(20858,) with 12 classes\n",
      "Initializing BavarianCropsDataset valid partition in holl\n",
      "read 12 classes\n",
      "precached dataset files found at C:/Users/Ivica Obadic/Desktop/Explainable Machine Learning in Earth Observations/Projects/EO_explainability_survey/Datasets/BavarianCrops/npy\\classmapping12.csv\\blocks\\holl\\valid\n",
      "loaded 3909 samples\n",
      "Dataset C:/Users/Ivica Obadic/Desktop/Explainable Machine Learning in Earth Observations/Projects/EO_explainability_survey/Datasets/BavarianCrops/. region holl. partition valid. X:3909x(144, 16), y:(3909,) with 12 classes\n",
      "Initializing BavarianCropsDataset test partition in holl\n",
      "read 12 classes\n",
      "precached dataset files found at C:/Users/Ivica Obadic/Desktop/Explainable Machine Learning in Earth Observations/Projects/EO_explainability_survey/Datasets/BavarianCrops/npy\\classmapping12.csv\\blocks\\holl\\test\n",
      "loaded 9583 samples\n",
      "Dataset C:/Users/Ivica Obadic/Desktop/Explainable Machine Learning in Earth Observations/Projects/EO_explainability_survey/Datasets/BavarianCrops/. region holl. partition test. X:9583x(144, 16), y:(9583,) with 12 classes\n",
      "Initializing BavarianCropsDataset train partition in krum\n",
      "read 12 classes\n",
      "precached dataset files found at C:/Users/Ivica Obadic/Desktop/Explainable Machine Learning in Earth Observations/Projects/EO_explainability_survey/Datasets/BavarianCrops/npy\\classmapping12.csv\\blocks\\krum\\train\n",
      "loaded 19601 samples\n",
      "Dataset C:/Users/Ivica Obadic/Desktop/Explainable Machine Learning in Earth Observations/Projects/EO_explainability_survey/Datasets/BavarianCrops/. region krum. partition train. X:19601x(70, 16), y:(19601,) with 12 classes\n",
      "Initializing BavarianCropsDataset valid partition in krum\n",
      "read 12 classes\n",
      "precached dataset files found at C:/Users/Ivica Obadic/Desktop/Explainable Machine Learning in Earth Observations/Projects/EO_explainability_survey/Datasets/BavarianCrops/npy\\classmapping12.csv\\blocks\\krum\\valid\n",
      "loaded 5482 samples\n",
      "Dataset C:/Users/Ivica Obadic/Desktop/Explainable Machine Learning in Earth Observations/Projects/EO_explainability_survey/Datasets/BavarianCrops/. region krum. partition valid. X:5482x(70, 16), y:(5482,) with 12 classes\n",
      "Initializing BavarianCropsDataset test partition in krum\n",
      "read 12 classes\n",
      "precached dataset files found at C:/Users/Ivica Obadic/Desktop/Explainable Machine Learning in Earth Observations/Projects/EO_explainability_survey/Datasets/BavarianCrops/npy\\classmapping12.csv\\blocks\\krum\\test\n",
      "loaded 4278 samples\n",
      "Dataset C:/Users/Ivica Obadic/Desktop/Explainable Machine Learning in Earth Observations/Projects/EO_explainability_survey/Datasets/BavarianCrops/. region krum. partition test. X:4278x(71, 16), y:(4278,) with 12 classes\n",
      "Initializing BavarianCropsDataset train partition in nowa\n",
      "read 12 classes\n",
      "precached dataset files found at C:/Users/Ivica Obadic/Desktop/Explainable Machine Learning in Earth Observations/Projects/EO_explainability_survey/Datasets/BavarianCrops/npy\\classmapping12.csv\\blocks\\nowa\\train\n",
      "loaded 7679 samples\n",
      "Dataset C:/Users/Ivica Obadic/Desktop/Explainable Machine Learning in Earth Observations/Projects/EO_explainability_survey/Datasets/BavarianCrops/. region nowa. partition train. X:7679x(144, 16), y:(7679,) with 12 classes\n",
      "Initializing BavarianCropsDataset valid partition in nowa\n",
      "read 12 classes\n",
      "precached dataset files found at C:/Users/Ivica Obadic/Desktop/Explainable Machine Learning in Earth Observations/Projects/EO_explainability_survey/Datasets/BavarianCrops/npy\\classmapping12.csv\\blocks\\nowa\\valid\n",
      "loaded 746 samples\n",
      "Dataset C:/Users/Ivica Obadic/Desktop/Explainable Machine Learning in Earth Observations/Projects/EO_explainability_survey/Datasets/BavarianCrops/. region nowa. partition valid. X:746x(144, 16), y:(746,) with 12 classes\n",
      "Initializing BavarianCropsDataset test partition in nowa\n",
      "read 12 classes\n",
      "precached dataset files found at C:/Users/Ivica Obadic/Desktop/Explainable Machine Learning in Earth Observations/Projects/EO_explainability_survey/Datasets/BavarianCrops/npy\\classmapping12.csv\\blocks\\nowa\\test\n",
      "loaded 3547 samples\n",
      "Dataset C:/Users/Ivica Obadic/Desktop/Explainable Machine Learning in Earth Observations/Projects/EO_explainability_survey/Datasets/BavarianCrops/. region nowa. partition test. X:3547x(144, 16), y:(3547,) with 12 classes\n",
      "Max sequence length is 144\n"
     ]
    }
   ],
   "source": [
    "#define the required constants and functions\n",
    "num_classes = 12\n",
    "dataset_folder = \"C:/Users/Ivica Obadic/Desktop/Explainable Machine Learning in Earth Observations/Projects/EO_explainability_survey/Datasets/BavarianCrops/\"\n",
    "class_mapping = os.path.join(dataset_folder, \"classmapping{}.csv\".format(num_classes))\n",
    "\n",
    "training_set, validation_set, test_set = dataset_utils.get_partitioned_dataset(\n",
    "        dataset_folder,\n",
    "        class_mapping,\n",
    "        WeeklySequenceAggregator())\n",
    "\n",
    "sequence_lengths_per_region = dataset_utils.get_sequence_lengths_per_region([training_set, validation_set, test_set])"
   ]
  },
  {
   "cell_type": "code",
   "execution_count": 5,
   "metadata": {},
   "outputs": [
    {
     "name": "stdout",
     "output_type": "stream",
     "text": [
      "98.0341193595342\n",
      "117.39249916471768\n",
      "72.06893498177855\n",
      "144\n",
      "144\n",
      "143\n"
     ]
    }
   ],
   "source": [
    "holl_lengths = sequence_lengths_per_region[\"holl\"]\n",
    "holl_label = [\"holl\"]*len(holl_lengths)\n",
    "holl_data = list(zip(holl_label, holl_lengths))\n",
    "nowa_lengths = sequence_lengths_per_region[\"nowa\"]\n",
    "nowa_label = [\"nowa\"] * len(nowa_lengths)\n",
    "nowa_data = list(zip(nowa_label, nowa_lengths))\n",
    "krum_lengths = sequence_lengths_per_region[\"krum\"]\n",
    "krum_label = [\"krum\"]*len(krum_lengths)\n",
    "krum_data = list(zip(krum_label, krum_lengths))\n",
    "\n",
    "print(sum(holl_lengths)/len(holl_lengths))\n",
    "print(sum(nowa_lengths)/len(nowa_lengths))\n",
    "print(sum(krum_lengths)/len(krum_lengths))\n",
    "\n",
    "print(max(holl_lengths))\n",
    "print(max(nowa_lengths))\n",
    "print(max(krum_lengths))\n",
    "\n",
    "all_data = []\n",
    "all_data.extend(holl_data)\n",
    "all_data.extend(nowa_data)\n",
    "all_data.extend(krum_data)\n",
    "\n",
    "sequence_lenghts_data = pd.DataFrame(all_data, columns = [\"REGION\", \"SEQUENCE_LENGTH\"])"
   ]
  },
  {
   "cell_type": "code",
   "execution_count": 11,
   "metadata": {
    "scrolled": true
   },
   "outputs": [
    {
     "data": {
      "text/plain": [
       "Text(0.5, 0, 'Region')"
      ]
     },
     "execution_count": 11,
     "metadata": {},
     "output_type": "execute_result"
    },
    {
     "data": {
      "image/png": "[encoded data removed]",
      "text/plain": [
       "<Figure size 360x144 with 1 Axes>"
      ]
     },
     "metadata": {
      "needs_background": "light"
     },
     "output_type": "display_data"
    }
   ],
   "source": [
    "fig, ax1 = plt.subplots(figsize=(5, 2))\n",
    "plot = sns.boxplot(x=\"REGION\", y=\"SEQUENCE_LENGTH\", data=sequence_lenghts_data, ax = ax1)\n",
    "plot.axes.set_title(\"Sequence Lengths Distribution per Region\")\n",
    "plot.axes.set_ylabel(\"Sequence Length\")\n",
    "plot.axes.set_xlabel(\"Region\")"
   ]
  },
  {
   "cell_type": "code",
   "execution_count": 19,
   "metadata": {},
   "outputs": [
    {
     "data": {
      "text/plain": [
       "array([2.01800000e+03, 1.00000000e+00, 2.00000000e+00, 4.10209996e-01,\n",
       "       3.47869318e-03, 1.75583783e-01, 1.45639938e-01, 3.84602693e-01,\n",
       "       3.08818714e-01, 3.16109339e-01, 3.24135115e-01, 3.34929463e-01,\n",
       "       3.42670443e-01, 3.41492412e-01, 3.43760381e-01, 1.47852367e-01])"
      ]
     },
     "execution_count": 19,
     "metadata": {},
     "output_type": "execute_result"
    }
   ],
   "source": [
    "ids = test_set.datasets[2].ids.tolist()\n",
    "target_index = ids.index(72220580)\n",
    "reflectance_values = test_set.datasets[2].X[target_index]\n",
    "reflectance_values[0,:]"
   ]
  }
 ],
 "metadata": {
  "kernelspec": {
   "display_name": "Python 3",
   "language": "python",
   "name": "python3"
  },
  "language_info": {
   "codemirror_mode": {
    "name": "ipython",
    "version": 3
   },
   "file_extension": ".py",
   "mimetype": "text/x-python",
   "name": "python",
   "nbconvert_exporter": "python",
   "pygments_lexer": "ipython3",
   "version": "3.8.5"
  }
 },
 "nbformat": 4,
 "nbformat_minor": 4
}
