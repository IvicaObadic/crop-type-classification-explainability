{
 "cells": [
  {
   "cell_type": "code",
   "execution_count": 2,
   "metadata": {
    "scrolled": false
   },
   "outputs": [
    {
     "name": "stdout",
     "output_type": "stream",
     "text": [
      "C:\\Users\\Ivica Obadic\\PycharmProjects\\EOExplainability\n",
      "Initializing BavarianCropsDataset train partition in holl\n",
      "read 12 classes\n",
      "precached dataset files found at C:\\Users\\Ivica Obadic\\Desktop/Explainable Machine Learning in Earth Observations/Projects/EO_explainability_survey/Datasets/BavarianCrops\\npy\\classmapping12.csv\\blocks\\holl\\train\n",
      "loaded 20858 samples\n",
      "Dataset C:\\Users\\Ivica Obadic\\Desktop/Explainable Machine Learning in Earth Observations/Projects/EO_explainability_survey/Datasets/BavarianCrops. region holl. partition train. X:20858x(71, 16), y:(20858,) with 12 classes\n",
      "Initializing BavarianCropsDataset valid partition in holl\n",
      "read 12 classes\n",
      "precached dataset files found at C:\\Users\\Ivica Obadic\\Desktop/Explainable Machine Learning in Earth Observations/Projects/EO_explainability_survey/Datasets/BavarianCrops\\npy\\classmapping12.csv\\blocks\\holl\\valid\n",
      "loaded 3909 samples\n",
      "Dataset C:\\Users\\Ivica Obadic\\Desktop/Explainable Machine Learning in Earth Observations/Projects/EO_explainability_survey/Datasets/BavarianCrops. region holl. partition valid. X:3909x(144, 16), y:(3909,) with 12 classes\n",
      "Initializing BavarianCropsDataset test partition in holl\n",
      "read 12 classes\n",
      "precached dataset files found at C:\\Users\\Ivica Obadic\\Desktop/Explainable Machine Learning in Earth Observations/Projects/EO_explainability_survey/Datasets/BavarianCrops\\npy\\classmapping12.csv\\blocks\\holl\\test\n",
      "loaded 9583 samples\n",
      "Dataset C:\\Users\\Ivica Obadic\\Desktop/Explainable Machine Learning in Earth Observations/Projects/EO_explainability_survey/Datasets/BavarianCrops. region holl. partition test. X:9583x(144, 16), y:(9583,) with 12 classes\n",
      "Initializing BavarianCropsDataset train partition in krum\n",
      "read 12 classes\n",
      "precached dataset files found at C:\\Users\\Ivica Obadic\\Desktop/Explainable Machine Learning in Earth Observations/Projects/EO_explainability_survey/Datasets/BavarianCrops\\npy\\classmapping12.csv\\blocks\\krum\\train\n",
      "loaded 19601 samples\n",
      "Dataset C:\\Users\\Ivica Obadic\\Desktop/Explainable Machine Learning in Earth Observations/Projects/EO_explainability_survey/Datasets/BavarianCrops. region krum. partition train. X:19601x(70, 16), y:(19601,) with 12 classes\n",
      "Initializing BavarianCropsDataset valid partition in krum\n",
      "read 12 classes\n",
      "precached dataset files found at C:\\Users\\Ivica Obadic\\Desktop/Explainable Machine Learning in Earth Observations/Projects/EO_explainability_survey/Datasets/BavarianCrops\\npy\\classmapping12.csv\\blocks\\krum\\valid\n",
      "loaded 5482 samples\n",
      "Dataset C:\\Users\\Ivica Obadic\\Desktop/Explainable Machine Learning in Earth Observations/Projects/EO_explainability_survey/Datasets/BavarianCrops. region krum. partition valid. X:5482x(70, 16), y:(5482,) with 12 classes\n",
      "Initializing BavarianCropsDataset test partition in krum\n",
      "read 12 classes\n",
      "precached dataset files found at C:\\Users\\Ivica Obadic\\Desktop/Explainable Machine Learning in Earth Observations/Projects/EO_explainability_survey/Datasets/BavarianCrops\\npy\\classmapping12.csv\\blocks\\krum\\test\n",
      "loaded 4278 samples\n",
      "Dataset C:\\Users\\Ivica Obadic\\Desktop/Explainable Machine Learning in Earth Observations/Projects/EO_explainability_survey/Datasets/BavarianCrops. region krum. partition test. X:4278x(71, 16), y:(4278,) with 12 classes\n",
      "Initializing BavarianCropsDataset train partition in nowa\n",
      "read 12 classes\n",
      "precached dataset files found at C:\\Users\\Ivica Obadic\\Desktop/Explainable Machine Learning in Earth Observations/Projects/EO_explainability_survey/Datasets/BavarianCrops\\npy\\classmapping12.csv\\blocks\\nowa\\train\n",
      "loaded 7679 samples\n",
      "Dataset C:\\Users\\Ivica Obadic\\Desktop/Explainable Machine Learning in Earth Observations/Projects/EO_explainability_survey/Datasets/BavarianCrops. region nowa. partition train. X:7679x(144, 16), y:(7679,) with 12 classes\n",
      "Initializing BavarianCropsDataset valid partition in nowa\n",
      "read 12 classes\n",
      "precached dataset files found at C:\\Users\\Ivica Obadic\\Desktop/Explainable Machine Learning in Earth Observations/Projects/EO_explainability_survey/Datasets/BavarianCrops\\npy\\classmapping12.csv\\blocks\\nowa\\valid\n",
      "loaded 746 samples\n",
      "Dataset C:\\Users\\Ivica Obadic\\Desktop/Explainable Machine Learning in Earth Observations/Projects/EO_explainability_survey/Datasets/BavarianCrops. region nowa. partition valid. X:746x(144, 16), y:(746,) with 12 classes\n",
      "Initializing BavarianCropsDataset test partition in nowa\n",
      "read 12 classes\n",
      "precached dataset files found at C:\\Users\\Ivica Obadic\\Desktop/Explainable Machine Learning in Earth Observations/Projects/EO_explainability_survey/Datasets/BavarianCrops\\npy\\classmapping12.csv\\blocks\\nowa\\test\n",
      "loaded 3547 samples\n",
      "Dataset C:\\Users\\Ivica Obadic\\Desktop/Explainable Machine Learning in Earth Observations/Projects/EO_explainability_survey/Datasets/BavarianCrops. region nowa. partition test. X:3547x(144, 16), y:(3547,) with 12 classes\n",
      "Max sequence length is 144\n",
      "Calculating spectral indices for dataset: holl_test\n",
      "Calculating spectral indices for dataset: krum_test\n",
      "Calculating spectral indices for dataset: nowa_test\n"
     ]
    }
   ],
   "source": [
    "import os, sys\n",
    "from pathlib import Path\n",
    "import matplotlib.pyplot as plt\n",
    "import seaborn as sns\n",
    "\n",
    "module_path = os.path.abspath(os.path.join('..'))\n",
    "if module_path not in sys.path:\n",
    "    sys.path.append(module_path)\n",
    "print(module_path)\n",
    "\n",
    "from datasets.BavarianCrops_Dataset import *\n",
    "from datasets.dataset_utils import *\n",
    "from datasets.sequence_aggregator import *\n",
    "\n",
    "from explainability_analysis.util import *\n",
    "from explainability_analysis.crop_spectral_signature_analysis import *\n",
    "\n",
    "num_classes = 12\n",
    "home_path = str(Path.home())\n",
    "dataset_folder = os.path.join(home_path, \"Desktop/Explainable Machine Learning in Earth Observations/Projects/EO_explainability_survey/Datasets/BavarianCrops\")\n",
    "model_root_path = os.path.join(home_path, \"EO_explainability_survey/training_results/bavarian_crops/pos_enc_obs_date/{}_classes/\".format(num_classes))\n",
    "\n",
    "class_mapping = os.path.join(dataset_folder, \"classmapping{}.csv\".format(num_classes))\n",
    "\n",
    "predictions_path = os.path.join(model_root_path, \"weekly_average\", \"predictions\")\n",
    "predictions = np.loadtxt(\n",
    "    os.path.join(predictions_path, \"predicted_vs_true.csv\"),\n",
    "    skiprows = 1,\n",
    "    delimiter = \",\",\n",
    "    dtype = np.uint)\n",
    "labels_classes = get_labels_for_parcel_ids(predictions[:,0], predictions_path)\n",
    "predictions = pd.DataFrame(predictions, columns = [\"PARCEL_ID\", \"LABEL\", \"PREDICTED\"])\n",
    "predictions[\"CLASS_NAME\"] = labels_classes\n",
    "_,_,test_dataset = get_partitioned_dataset(dataset_folder, class_mapping, WeeklySequenceAggregator())\n",
    "spectral_indices_per_parcel = test_dataset.calculate_spectral_indices()"
   ]
  },
  {
   "cell_type": "code",
   "execution_count": 28,
   "metadata": {},
   "outputs": [
    {
     "name": "stdout",
     "output_type": "stream",
     "text": [
      "Concatenating all observations into a single dataframe\n",
      "Aggregating the spectral indices based on the time frame method\n"
     ]
    }
   ],
   "source": [
    "aggregation_time_frame = \"WEEK\"\n",
    "average_crop_type_signature = calc_spectral_signature_per_class_and_time_frame(spectral_indices_per_parcel, predictions, aggregation_time_frame)"
   ]
  },
  {
   "cell_type": "code",
   "execution_count": null,
   "metadata": {},
   "outputs": [],
   "source": [
    "average_ndvi_per_crop_type = average_ndvi_per_crop_type.pivot(index=\"CLASS\", \n",
    "                                                              columns=aggregation_time_frame, \n",
    "                                                              values='NDVI')\n",
    "\n",
    "average_ndvi_per_crop_type.to_csv(os.path.join(predictions_path, \"{}_NDVI.csv\".format(aggregation_time_frame)), index=False)\n",
    "fig, ax1 = plt.subplots(figsize=(10, 6))\n",
    "ax1 = sns.heatmap(average_ndvi_per_crop_type, cmap=\"BuGn\", ax=ax1)\n",
    "ax1.set_title(\"Average NDVI index\", fontsize=12)\n",
    "ax1.tick_params(bottom=False, top=False, left=False)"
   ]
  },
  {
   "cell_type": "code",
   "execution_count": 29,
   "metadata": {},
   "outputs": [],
   "source": [
    "NEAR_INFRARED_BAND = \"B8\"\n",
    "VISIBLE_RED_BAND = \"B4\"\n",
    "BANDS = ['B1', 'B10', 'B11', 'B12', 'B2', 'B3', VISIBLE_RED_BAND, 'B5', 'B6', 'B7', NEAR_INFRARED_BAND,\n",
    "       'B8A', 'B9', \"WEEK\", \"CLASS\"]\n",
    "average_crop_type_signature = average_crop_type_signature[BANDS]"
   ]
  },
  {
   "cell_type": "code",
   "execution_count": 31,
   "metadata": {},
   "outputs": [
    {
     "name": "stdout",
     "output_type": "stream",
     "text": [
      "        CLASS BAND  AVG_REFLECTANCE\n",
      "0        corn   B1         0.186649\n",
      "1      fallow   B1         0.202412\n",
      "2   grassland   B1         0.199957\n",
      "3        corn  B10         0.005150\n",
      "4      fallow  B10         0.008558\n",
      "5   grassland  B10         0.007443\n",
      "6        corn  B11         0.208283\n",
      "7      fallow  B11         0.251958\n",
      "8   grassland  B11         0.254725\n",
      "9        corn  B12         0.119445\n",
      "10     fallow  B12         0.157394\n",
      "11  grassland  B12         0.151891\n",
      "12       corn   B2         0.161235\n",
      "13     fallow   B2         0.177971\n",
      "14  grassland   B2         0.175110\n",
      "15       corn   B3         0.148155\n",
      "16     fallow   B3         0.166255\n",
      "17  grassland   B3         0.163552\n",
      "18       corn   B4         0.131404\n",
      "19     fallow   B4         0.158070\n",
      "20  grassland   B4         0.149989\n",
      "21       corn   B5         0.152880\n",
      "22     fallow   B5         0.184034\n",
      "23  grassland   B5         0.179382\n",
      "24       corn   B6         0.285456\n",
      "25     fallow   B6         0.273888\n",
      "26  grassland   B6         0.287692\n",
      "27       corn   B7         0.376019\n",
      "28     fallow   B7         0.318865\n",
      "29  grassland   B7         0.339993\n",
      "30       corn   B8         0.362001\n",
      "31     fallow   B8         0.309393\n",
      "32  grassland   B8         0.329820\n",
      "33       corn  B8A         0.404623\n",
      "34     fallow  B8A         0.347970\n",
      "35  grassland  B8A         0.371674\n",
      "36       corn   B9         0.098529\n",
      "37     fallow   B9         0.103839\n",
      "38  grassland   B9         0.101739\n"
     ]
    },
    {
     "data": {
      "text/plain": [
       "Text(0.5, 1.0, 'Average Crop-Type Spectral Signature in the week of 2018-07-23')"
      ]
     },
     "execution_count": 31,
     "metadata": {},
     "output_type": "execute_result"
    },
    {
     "data": {
      "image/png": "[encoded data removed]",
      "text/plain": [
       "<Figure size 720x432 with 1 Axes>"
      ]
     },
     "metadata": {
      "needs_background": "light"
     },
     "output_type": "display_data"
    }
   ],
   "source": [
    "BANDS = ['B1', 'B10', 'B11', 'B12', 'B2', 'B3', VISIBLE_RED_BAND, 'B5', 'B6', 'B7', NEAR_INFRARED_BAND,\n",
    "       'B8A', 'B9']\n",
    "average_crop_type_signature = average_crop_type_signature.loc[average_crop_type_signature['WEEK'] == \"2018-07-23\"]\n",
    "average_crop_type_signature = average_crop_type_signature[average_crop_type_signature[\"CLASS\"].isin([\"corn\", \"fallow\", \"grassland\"])]\n",
    "spectral_signature_in_a_week_long = average_crop_type_signature.melt(id_vars=\"CLASS\", value_vars=BANDS, var_name=\"BAND\", value_name = \"AVG_REFLECTANCE\")\n",
    "print(spectral_signature_in_a_week_long)\n",
    "spectral_signature_in_a_week_long.rename(columns={\"B10\": 'Blue', \"B11\": \"Green\", \"B12\": \"Red\"}, inplace=True)\n",
    "\n",
    "fig, ax1 = plt.subplots(figsize=(10, 6))\n",
    "ax1 = sns.barplot(x=\"BAND\", y=\"AVG_REFLECTANCE\", hue=\"CLASS\", data=spectral_signature_in_a_week_long)\n",
    "ax1.set_title(\"Average Crop-Type Spectral Signature in the week of 2018-07-23\")"
   ]
  }
 ],
 "metadata": {
  "kernelspec": {
   "display_name": "Python 3",
   "language": "python",
   "name": "python3"
  },
  "language_info": {
   "codemirror_mode": {
    "name": "ipython",
    "version": 3
   },
   "file_extension": ".py",
   "mimetype": "text/x-python",
   "name": "python",
   "nbconvert_exporter": "python",
   "pygments_lexer": "ipython3",
   "version": "3.8.5"
  }
 },
 "nbformat": 4,
 "nbformat_minor": 4
}
