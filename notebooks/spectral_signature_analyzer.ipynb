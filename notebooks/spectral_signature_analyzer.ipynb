{
 "cells": [
  {
   "cell_type": "code",
   "execution_count": 1,
   "metadata": {
    "scrolled": false
   },
   "outputs": [
    {
     "name": "stdout",
     "output_type": "stream",
     "text": [
      "C:\\Users\\Ivica Obadic\\PycharmProjects\\EOExplainability\n",
      "Initializing BavarianCropsDataset train partition in holl\n",
      "read 12 classes\n",
      "precached dataset files found at C:/Users/datasets/BavarianCrops\\npy\\classmapping12.csv\\blocks\\holl\\train\n",
      "loaded 20858 samples\n",
      "Dataset C:/Users/datasets/BavarianCrops. region holl. partition train. X:20858x(71, 16), y:(20858,) with 12 classes\n",
      "Initializing BavarianCropsDataset valid partition in holl\n",
      "read 12 classes\n",
      "precached dataset files found at C:/Users/datasets/BavarianCrops\\npy\\classmapping12.csv\\blocks\\holl\\valid\n",
      "loaded 3909 samples\n",
      "Dataset C:/Users/datasets/BavarianCrops. region holl. partition valid. X:3909x(144, 16), y:(3909,) with 12 classes\n",
      "Initializing BavarianCropsDataset test partition in holl\n",
      "read 12 classes\n",
      "precached dataset files found at C:/Users/datasets/BavarianCrops\\npy\\classmapping12.csv\\blocks\\holl\\test\n",
      "loaded 9583 samples\n",
      "Dataset C:/Users/datasets/BavarianCrops. region holl. partition test. X:9583x(144, 16), y:(9583,) with 12 classes\n",
      "Initializing BavarianCropsDataset train partition in krum\n",
      "read 12 classes\n",
      "precached dataset files found at C:/Users/datasets/BavarianCrops\\npy\\classmapping12.csv\\blocks\\krum\\train\n",
      "loaded 19601 samples\n",
      "Dataset C:/Users/datasets/BavarianCrops. region krum. partition train. X:19601x(70, 16), y:(19601,) with 12 classes\n",
      "Initializing BavarianCropsDataset valid partition in krum\n",
      "read 12 classes\n",
      "precached dataset files found at C:/Users/datasets/BavarianCrops\\npy\\classmapping12.csv\\blocks\\krum\\valid\n",
      "loaded 5482 samples\n",
      "Dataset C:/Users/datasets/BavarianCrops. region krum. partition valid. X:5482x(70, 16), y:(5482,) with 12 classes\n",
      "Initializing BavarianCropsDataset test partition in krum\n",
      "read 12 classes\n",
      "precached dataset files found at C:/Users/datasets/BavarianCrops\\npy\\classmapping12.csv\\blocks\\krum\\test\n",
      "loaded 4278 samples\n",
      "Dataset C:/Users/datasets/BavarianCrops. region krum. partition test. X:4278x(71, 16), y:(4278,) with 12 classes\n",
      "Initializing BavarianCropsDataset train partition in nowa\n",
      "read 12 classes\n",
      "precached dataset files found at C:/Users/datasets/BavarianCrops\\npy\\classmapping12.csv\\blocks\\nowa\\train\n",
      "loaded 7679 samples\n",
      "Dataset C:/Users/datasets/BavarianCrops. region nowa. partition train. X:7679x(144, 16), y:(7679,) with 12 classes\n",
      "Initializing BavarianCropsDataset valid partition in nowa\n",
      "read 12 classes\n",
      "precached dataset files found at C:/Users/datasets/BavarianCrops\\npy\\classmapping12.csv\\blocks\\nowa\\valid\n",
      "loaded 746 samples\n",
      "Dataset C:/Users/datasets/BavarianCrops. region nowa. partition valid. X:746x(144, 16), y:(746,) with 12 classes\n",
      "Initializing BavarianCropsDataset test partition in nowa\n",
      "read 12 classes\n",
      "precached dataset files found at C:/Users/datasets/BavarianCrops\\npy\\classmapping12.csv\\blocks\\nowa\\test\n",
      "loaded 3547 samples\n",
      "Dataset C:/Users/datasets/BavarianCrops. region nowa. partition test. X:3547x(144, 16), y:(3547,) with 12 classes\n",
      "Max sequence length is 144\n",
      "Calculating spectral indices for dataset: holl_test\n",
      "Calculating spectral indices for dataset: krum_test\n",
      "Calculating spectral indices for dataset: nowa_test\n"
     ]
    }
   ],
   "source": [
    "import os, sys\n",
    "from pathlib import Path\n",
    "import matplotlib.pyplot as plt\n",
    "import seaborn as sns\n",
    "\n",
    "module_path = os.path.abspath(os.path.join('..'))\n",
    "if module_path not in sys.path:\n",
    "    sys.path.append(module_path)\n",
    "print(module_path)\n",
    "\n",
    "from datasets.BavarianCrops_Dataset import *\n",
    "from datasets.dataset_utils import *\n",
    "from datasets.sequence_aggregator import *\n",
    "\n",
    "from explainability_analysis.util import *\n",
    "from explainability_analysis.crop_spectral_signature_analysis import *\n",
    "\n",
    "num_classes = 12\n",
    "home_path = str(Path.home())\n",
    "dataset_folder = \"C:/Users/datasets/BavarianCrops\"\n",
    "model_root_path = \"C:/Users/results/{}_classes/weekly_average/obs_aq_date/layers=3,heads=4,emb_dim=128/\".format(num_classes)\n",
    "\n",
    "class_mapping = os.path.join(dataset_folder, \"classmapping{}.csv\".format(num_classes))\n",
    "\n",
    "predictions_path = os.path.join(model_root_path, \"predictions\")\n",
    "predictions = np.loadtxt(\n",
    "    os.path.join(predictions_path, \"predicted_vs_true.csv\"),\n",
    "    skiprows = 1,\n",
    "    delimiter = \",\",\n",
    "    dtype = np.uint)\n",
    "labels_classes = get_labels_for_parcel_ids(predictions[:,0], predictions_path)\n",
    "predictions = pd.DataFrame(predictions, columns = [\"PARCEL_ID\", \"LABEL\", \"PREDICTED\"])\n",
    "predictions[\"CLASS_NAME\"] = labels_classes\n",
    "_,_,test_dataset = get_partitioned_dataset(dataset_folder, class_mapping, WeeklySequenceAggregator())\n",
    "spectral_indices_per_parcel = test_dataset.calculate_spectral_indices()"
   ]
  },
  {
   "cell_type": "code",
   "execution_count": null,
   "metadata": {
    "scrolled": true
   },
   "outputs": [
    {
     "name": "stdout",
     "output_type": "stream",
     "text": [
      "Concatenating all observations into a single dataframe\n"
     ]
    }
   ],
   "source": [
    "aggregation_time_frame = \"WEEK\"\n",
    "average_crop_type_signature = calc_spectral_signature_per_class_and_time_frame(spectral_indices_per_parcel, aggregation_time_frame)"
   ]
  },
  {
   "cell_type": "code",
   "execution_count": null,
   "metadata": {},
   "outputs": [],
   "source": [
    "class_data = average_crop_type_signature[\"CLASS\"]\n",
    "week_data = average_crop_type_signature[\"WEEK\"]\n",
    "ndvi_data = average_crop_type_signature[\"NDVI\"]\n",
    "ndvi_data.rename(columns={\"mean\":\"NDVI MEAN\", \"var\": \"NDVI Variance\"}, inplace=True)\n",
    "ndvi_result_mean = pd.concat([class_data, week_data, ndvi_data[\"NDVI MEAN\"]], axis=1)\n",
    "ndvi_result_mean = ndvi_result_mean.pivot(index=\"CLASS\", columns=aggregation_time_frame, values='NDVI MEAN')\n",
    "print(ndvi_result_mean)\n",
    "ndvi_result_variance = pd.concat([class_data, week_data, ndvi_data[\"NDVI Variance\"]], axis=1)\n",
    "ndvi_result_variance = ndvi_result_variance.pivot(index=\"CLASS\", columns=aggregation_time_frame, values='NDVI Variance')\n",
    "print(ndvi_result_variance)"
   ]
  },
  {
   "cell_type": "code",
   "execution_count": null,
   "metadata": {},
   "outputs": [],
   "source": [
    "fig, axs = plt.subplots(figsize=(16, 6), nrows=1, ncols=2)\n",
    "ax1 = sns.heatmap(ndvi_result_mean, cmap=\"BuGn\", ax=axs[0])\n",
    "ax1.set_title(\"Average NDVI index\", fontsize=12)\n",
    "ax1.tick_params(bottom=False, top=False, left=False)\n",
    "\n",
    "ax2 = sns.heatmap(ndvi_result_variance, ax=axs[1])\n",
    "ax2.set_title(\"Variance of the NDVI index\", fontsize=12)\n",
    "ax2.tick_params(bottom=False, top=False, left=False)"
   ]
  },
  {
   "cell_type": "code",
   "execution_count": 3,
   "metadata": {},
   "outputs": [
    {
     "name": "stdout",
     "output_type": "stream",
     "text": [
      "            CLASS        WEEK  YEAR                MONTH                   \\\n",
      "                               mean median var      mean median       var   \n",
      "0            corn  2018-01-01  2018   2018   0   1.00000      1  0.000000   \n",
      "1            corn  2018-01-08  2018   2018   0   1.00000      1  0.000000   \n",
      "2            corn  2018-01-15  2018   2018   0   1.00000      1  0.000000   \n",
      "3            corn  2018-01-22  2018   2018   0   1.00000      1  0.000000   \n",
      "4            corn  2018-01-29  2018   2018   0   1.76903      2  0.177674   \n",
      "..            ...         ...   ...    ...  ..       ...    ...       ...   \n",
      "619  winter wheat  2018-11-26  2018   2018   0  11.00000     11  0.000000   \n",
      "620  winter wheat  2018-12-03  2018   2018   0  12.00000     12  0.000000   \n",
      "621  winter wheat  2018-12-10  2018   2018   0  12.00000     12  0.000000   \n",
      "622  winter wheat  2018-12-17  2018   2018   0  12.00000     12  0.000000   \n",
      "623  winter wheat  2018-12-24  2018   2018   0  12.00000     12  0.000000   \n",
      "\n",
      "                       ...        B8       B8A                            B9  \\\n",
      "          mean median  ...       var      mean    median       var      mean   \n",
      "0     4.412236      4  ...  0.013488  0.559466  0.562053  0.014461  0.312540   \n",
      "1    11.761671     12  ...  0.026937  0.592774  0.585063  0.027804  0.346456   \n",
      "2    17.600683     17  ...  0.050298  0.694875  0.704481  0.052126  0.456862   \n",
      "3    24.408132     24  ...  0.028274  0.593864  0.616657  0.031422  0.245034   \n",
      "4     7.937192      1  ...  0.026575  0.642537  0.662530  0.027980  0.399566   \n",
      "..         ...    ...  ...       ...       ...       ...       ...       ...   \n",
      "619  28.593842     28  ...  0.029520  0.398184  0.401925  0.031132  0.226890   \n",
      "620   5.416775      5  ...  0.048180  0.440207  0.455720  0.053443  0.200208   \n",
      "621  12.761143     13  ...  0.050069  0.449625  0.463940  0.054911  0.232527   \n",
      "622  20.416957     20  ...  0.020107  0.481672  0.503628  0.021622  0.241985   \n",
      "623  27.789901     28  ...  0.030782  0.370442  0.338372  0.032641  0.168945   \n",
      "\n",
      "                             NDVI                      \n",
      "       median       var      mean    median       var  \n",
      "0    0.333452  0.009947  0.022461  0.024723  0.000317  \n",
      "1    0.293548  0.028940  0.030902  0.029082  0.000512  \n",
      "2    0.451951  0.043753  0.033947  0.031623  0.000574  \n",
      "3    0.210818  0.017281  0.011494  0.009546  0.000953  \n",
      "4    0.383350  0.022151  0.031446  0.030475  0.001090  \n",
      "..        ...       ...       ...       ...       ...  \n",
      "619  0.235306  0.012493  0.160834  0.133227  0.023211  \n",
      "620  0.184707  0.019910  0.092197  0.025601  0.024740  \n",
      "621  0.236310  0.017865  0.073252  0.042560  0.011390  \n",
      "622  0.239613  0.010888  0.090707  0.027979  0.025596  \n",
      "623  0.127293  0.013321  0.179483  0.112527  0.037936  \n",
      "\n",
      "[624 rows x 53 columns]\n",
      "           B1                           B10                           B11  \\\n",
      "         mean    median       var      mean    median       var      mean   \n",
      "0    0.568596  0.568806  0.006358  0.099073  0.081690  0.009667  0.317133   \n",
      "1    0.592604  0.594120  0.015055  0.072115  0.012256  0.013330  0.376258   \n",
      "2    0.673149  0.673989  0.028256  0.143528  0.130975  0.014651  0.311740   \n",
      "3    0.595612  0.611596  0.017590  0.040433  0.007730  0.002549  0.323714   \n",
      "4    0.637212  0.669861  0.019632  0.094561  0.076896  0.007887  0.305004   \n",
      "..        ...       ...       ...       ...       ...       ...       ...   \n",
      "619  0.375582  0.331944  0.036215  0.052256  0.050205  0.001806  0.187479   \n",
      "620  0.439716  0.469965  0.039342  0.027916  0.009336  0.001238  0.249938   \n",
      "621  0.452292  0.454525  0.034288  0.008465  0.005652  0.000071  0.347557   \n",
      "622  0.469058  0.504880  0.024804  0.065387  0.053334  0.004188  0.260665   \n",
      "623  0.352013  0.277442  0.035251  0.023433  0.007721  0.000708  0.229163   \n",
      "\n",
      "                              B12  ...        B8                 B8A  \\\n",
      "       median       var      mean  ...    median       var      mean   \n",
      "0    0.325020  0.008682  0.264953  ...  0.535906  0.013488  0.559466   \n",
      "1    0.364199  0.016858  0.312751  ...  0.558338  0.026937  0.592774   \n",
      "2    0.299084  0.017352  0.278620  ...  0.682597  0.050298  0.694875   \n",
      "3    0.282089  0.022671  0.255570  ...  0.574652  0.028274  0.593864   \n",
      "4    0.281296  0.016466  0.270941  ...  0.640162  0.026575  0.642537   \n",
      "..        ...       ...       ...  ...       ...       ...       ...   \n",
      "619  0.178839  0.003653  0.158302  ...  0.379824  0.029520  0.398184   \n",
      "620  0.244924  0.020176  0.185070  ...  0.422319  0.048180  0.440207   \n",
      "621  0.363859  0.038330  0.289546  ...  0.439898  0.050069  0.449625   \n",
      "622  0.268548  0.010937  0.214258  ...  0.473263  0.020107  0.481672   \n",
      "623  0.197857  0.015972  0.166180  ...  0.306844  0.030782  0.370442   \n",
      "\n",
      "                               B9                            WEEK  \\\n",
      "       median       var      mean    median       var               \n",
      "0    0.562053  0.014461  0.312540  0.333452  0.009947  2018-01-01   \n",
      "1    0.585063  0.027804  0.346456  0.293548  0.028940  2018-01-08   \n",
      "2    0.704481  0.052126  0.456862  0.451951  0.043753  2018-01-15   \n",
      "3    0.616657  0.031422  0.245034  0.210818  0.017281  2018-01-22   \n",
      "4    0.662530  0.027980  0.399566  0.383350  0.022151  2018-01-29   \n",
      "..        ...       ...       ...       ...       ...         ...   \n",
      "619  0.401925  0.031132  0.226890  0.235306  0.012493  2018-11-26   \n",
      "620  0.455720  0.053443  0.200208  0.184707  0.019910  2018-12-03   \n",
      "621  0.463940  0.054911  0.232527  0.236310  0.017865  2018-12-10   \n",
      "622  0.503628  0.021622  0.241985  0.239613  0.010888  2018-12-17   \n",
      "623  0.338372  0.032641  0.168945  0.127293  0.013321  2018-12-24   \n",
      "\n",
      "            CLASS  \n",
      "                   \n",
      "0            corn  \n",
      "1            corn  \n",
      "2            corn  \n",
      "3            corn  \n",
      "4            corn  \n",
      "..            ...  \n",
      "619  winter wheat  \n",
      "620  winter wheat  \n",
      "621  winter wheat  \n",
      "622  winter wheat  \n",
      "623  winter wheat  \n",
      "\n",
      "[624 rows x 41 columns]\n"
     ]
    }
   ],
   "source": [
    "print(average_crop_type_signature)\n",
    "NEAR_INFRARED_BAND = \"B8\"\n",
    "VISIBLE_RED_BAND = \"B4\"\n",
    "BANDS = ['B1', 'B10', 'B11', 'B12', 'B2', 'B3', VISIBLE_RED_BAND, 'B5', 'B6', 'B7', NEAR_INFRARED_BAND,\n",
    "       'B8A', 'B9', \"WEEK\", \"CLASS\"]\n",
    "average_crop_type_signature = average_crop_type_signature[BANDS]\n",
    "print(average_crop_type_signature)"
   ]
  },
  {
   "cell_type": "code",
   "execution_count": 10,
   "metadata": {},
   "outputs": [
    {
     "name": "stdout",
     "output_type": "stream",
     "text": [
      "            CLASS        B1       B10       B11       B12        B2        B3  \\\n",
      "22           corn  0.184678  0.009288  0.257548  0.170467  0.163354  0.157751   \n",
      "334  summer wheat  0.162642  0.010254  0.198111  0.111200  0.135541  0.125094   \n",
      "\n",
      "           B4        B5        B6        B7        B8       B8A        B9  \n",
      "22   0.151208  0.176398  0.285865  0.342097  0.325659  0.366621  0.096342  \n",
      "334  0.105821  0.135259  0.272241  0.349921  0.335031  0.380050  0.090273  \n",
      "           CLASS BAND  AVG_REFLECTANCE\n",
      "0           corn   B1         0.184678\n",
      "1   summer wheat   B1         0.162642\n",
      "2           corn  B10         0.009288\n",
      "3   summer wheat  B10         0.010254\n",
      "4           corn  B11         0.257548\n",
      "5   summer wheat  B11         0.198111\n",
      "6           corn  B12         0.170467\n",
      "7   summer wheat  B12         0.111200\n",
      "8           corn   B2         0.163354\n",
      "9   summer wheat   B2         0.135541\n",
      "10          corn   B3         0.157751\n",
      "11  summer wheat   B3         0.125094\n",
      "12          corn   B4         0.151208\n",
      "13  summer wheat   B4         0.105821\n",
      "14          corn   B5         0.176398\n",
      "15  summer wheat   B5         0.135259\n",
      "16          corn   B6         0.285865\n",
      "17  summer wheat   B6         0.272241\n",
      "18          corn   B7         0.342097\n",
      "19  summer wheat   B7         0.349921\n",
      "20          corn   B8         0.325659\n",
      "21  summer wheat   B8         0.335031\n",
      "22          corn  B8A         0.366621\n",
      "23  summer wheat  B8A         0.380050\n",
      "24          corn   B9         0.096342\n",
      "25  summer wheat   B9         0.090273\n"
     ]
    },
    {
     "data": {
      "text/plain": [
       "Text(0.5, 1.0, 'Average Crop-Type Spectral Signature for 2018-06-04')"
      ]
     },
     "execution_count": 10,
     "metadata": {},
     "output_type": "execute_result"
    },
    {
     "data": {
      "image/png": "[encoded data removed]",
      "text/plain": [
       "<Figure size 720x432 with 1 Axes>"
      ]
     },
     "metadata": {
      "needs_background": "light"
     },
     "output_type": "display_data"
    }
   ],
   "source": [
    "SPECTRAL_BANDS = ['B1', 'B10', 'B11', 'B12', 'B2', 'B3', VISIBLE_RED_BAND, 'B5', 'B6', 'B7', NEAR_INFRARED_BAND,\n",
    "       'B8A', 'B9']\n",
    "\n",
    "average_crop_type_signature = average_crop_type_signature.loc[average_crop_type_signature['WEEK'] == \"2018-06-04\"]\n",
    "average_crop_type_signature = average_crop_type_signature[average_crop_type_signature[\"CLASS\"].isin([\"rapeseed\", \"summer oat\"])]\n",
    "result = average_crop_type_signature[\"CLASS\"]\n",
    "for i in range(0, len(SPECTRAL_BANDS)):\n",
    "    band_result = pd.DataFrame({BANDS[i]: average_crop_type_signature[BANDS[i]][\"mean\"]})\n",
    "    result = pd.concat([result, band_result], axis=1)\n",
    "\n",
    "print(result)\n",
    "spectral_signature_in_a_week_long = result.melt(id_vars=\"CLASS\", value_vars=SPECTRAL_BANDS, var_name=\"BAND\", value_name = \"AVG_REFLECTANCE\")\n",
    "print(spectral_signature_in_a_week_long)\n",
    "\n",
    "fig, ax1 = plt.subplots(figsize=(10, 6))\n",
    "ax1 = sns.barplot(x=\"BAND\", y=\"AVG_REFLECTANCE\", hue=\"CLASS\", data=spectral_signature_in_a_week_long)\n",
    "ax1.set_title(\"Average Crop-Type Spectral Signature for 2018-06-04\")"
   ]
  },
  {
   "cell_type": "code",
   "execution_count": null,
   "metadata": {},
   "outputs": [],
   "source": []
  }
 ],
 "metadata": {
  "kernelspec": {
   "display_name": "Python 3",
   "language": "python",
   "name": "python3"
  },
  "language_info": {
   "codemirror_mode": {
    "name": "ipython",
    "version": 3
   },
   "file_extension": ".py",
   "mimetype": "text/x-python",
   "name": "python",
   "nbconvert_exporter": "python",
   "pygments_lexer": "ipython3",
   "version": "3.8.5"
  }
 },
 "nbformat": 4,
 "nbformat_minor": 4
}