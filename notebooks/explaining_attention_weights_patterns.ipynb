{
 "cells": [
  {
   "cell_type": "code",
   "execution_count": 6,
   "id": "b98443dd",
   "metadata": {
    "scrolled": true
   },
   "outputs": [
    {
     "name": "stdout",
     "output_type": "stream",
     "text": [
      "C:\\Users\\Ivica Obadic\\PycharmProjects\\EOExplainability\n"
     ]
    }
   ],
   "source": [
    "import numpy as np\n",
    "import pandas as pd\n",
    "import pickle\n",
    "import sys, os\n",
    "import torch\n",
    "from sklearn.decomposition import PCA\n",
    "import matplotlib.pyplot as plt\n",
    "\n",
    "import matplotlib.dates as mdates\n",
    "import plotly.express as px\n",
    "\n",
    "module_path = os.path.abspath(os.path.join('..'))\n",
    "if module_path not in sys.path:\n",
    "    sys.path.append(module_path)\n",
    "print(module_path)\n",
    "\n",
    "from explainability_analysis.transformer_analysis import *\n",
    "from explainability_analysis.crop_spectral_signature_analysis import *\n",
    "from explainability_analysis.visualization_functions import *\n",
    "from explainability_analysis.visualization_constants import *\n",
    "figures_base_path = os.path.join(FIGURES_BASE_PATH, \"attn_weights_patterns\")\n",
    "\n",
    "\n",
    "def get_attn_and_signature_for_top_n_attention_dates(temporal_attn_weights, spectral_indices, sorting_column=\"Attention\", num_dates=3, occluded_class=None):\n",
    "    top_dates = sort_by_attention(temporal_attn_weights, sorting_column).iloc[:num_dates].index\n",
    "    temporal_attn_weights_filtered_classes = temporal_attn_weights.loc[~temporal_attn_weights[\"Crop type\"].isin(CLASSES_TO_EXCLUDE)]\n",
    "    relevant_attn_weights = temporal_attn_weights_filtered_classes.loc[temporal_attn_weights_filtered_classes[\"Date\"].isin(top_dates)]\n",
    "    relevant_attn_weights.reset_index(inplace=True)\n",
    "    print(top_dates)\n",
    "    spectral_indices_copy = spectral_indices.copy(deep=True)\n",
    "    spectral_indices_with_attention = pd.merge(spectral_indices_copy, relevant_attn_weights, left_on=[\"PARCEL_ID\",\"Date\"], right_on=[\"index\", \"Date\"], how=\"inner\")\n",
    "    spectral_indices_with_attention.rename(columns={\"Crop type_y\": \"Crop type\"}, inplace=True)\n",
    "    spectral_indices_with_attention[\"Date\"] = spectral_indices_with_attention[\"Date\"].apply(lambda x: \"{:02d}-{:02d}\".format(x.month, x.day))\n",
    "    \n",
    "    return spectral_indices_with_attention\n",
    "\n",
    "\n",
    "def calc_attn_weights_corr(temporal_attention_weights, value_column):\n",
    "    avg_daily_attn_weights = temporal_attention_weights.groupby([\"Date\", \"Crop type\"]).agg(\"mean\").reset_index()\n",
    "    avg_daily_attn_weights = avg_daily_attn_weights.pivot(index=\"Date\", columns=\"Crop type\", values=value_column)\n",
    "    corr_values = avg_daily_attn_weights.corr()\n",
    "    return corr_values\n",
    "    \n",
    "def plot_attn_weights_corr(temporal_attention_weights, plot_label, target_classes=None, show_corr_values=True, corr_value_column=\"Attention\"):\n",
    "    \n",
    "    plot_data = temporal_attention_weights.copy(deep=True)\n",
    "    if target_classes is not None: \n",
    "        plot_data = temporal_attention_weights.loc[temporal_attention_weights[\"Crop type\"].isin(target_classes)]\n",
    "    \n",
    "    fig, axs = plt.subplots(figsize=(7, 4))\n",
    "    corr_values = calc_attn_weights_corr(plot_data, corr_value_column)\n",
    "    axs = sns.heatmap(corr_values,cmap=\"Blues\", ax=axs, annot=show_corr_values)\n",
    "    axs.set_ylabel('')    \n",
    "    axs.set_xlabel('')\n",
    "    axs.tick_params(axis='y', rotation=0)\n",
    "    fig.tight_layout()\n",
    "    plt.savefig(os.path.join(figure_results_path, '{}.eps'.format(plot_label)), dpi=400)\n",
    "    \n",
    "base_model_path = \"C:/Users/results/crop-type-classification-explainability\""
   ]
  },
  {
   "cell_type": "code",
   "execution_count": 2,
   "id": "6037c706",
   "metadata": {},
   "outputs": [
    {
     "name": "stdout",
     "output_type": "stream",
     "text": [
      "Initializing BavarianCropsDataset train partition in holl\n",
      "read 12 classes\n",
      "precached dataset files found at C:/Users/datasets/BavarianCrops/npy\\12_classes\\blocks\\holl\\train\n",
      "Dataset C:/Users/datasets/BavarianCrops/. region holl. partition train.X:20858x(71, 16), y:(20858,) with 12 classes\n",
      "Initializing BavarianCropsDataset valid partition in holl\n",
      "read 12 classes\n",
      "precached dataset files found at C:/Users/datasets/BavarianCrops/npy\\12_classes\\blocks\\holl\\valid\n",
      "Dataset C:/Users/datasets/BavarianCrops/. region holl. partition valid.X:3909x(144, 16), y:(3909,) with 12 classes\n",
      "Initializing BavarianCropsDataset test partition in holl\n",
      "read 12 classes\n",
      "precached dataset files found at C:/Users/datasets/BavarianCrops/npy\\12_classes\\blocks\\holl\\test\n",
      "Dataset C:/Users/datasets/BavarianCrops/. region holl. partition test.X:9583x(144, 16), y:(9583,) with 12 classes\n",
      "Initializing BavarianCropsDataset train partition in krum\n",
      "read 12 classes\n",
      "precached dataset files found at C:/Users/datasets/BavarianCrops/npy\\12_classes\\blocks\\krum\\train\n",
      "Dataset C:/Users/datasets/BavarianCrops/. region krum. partition train.X:19601x(70, 16), y:(19601,) with 12 classes\n",
      "Initializing BavarianCropsDataset valid partition in krum\n",
      "read 12 classes\n",
      "precached dataset files found at C:/Users/datasets/BavarianCrops/npy\\12_classes\\blocks\\krum\\valid\n",
      "Dataset C:/Users/datasets/BavarianCrops/. region krum. partition valid.X:5482x(70, 16), y:(5482,) with 12 classes\n",
      "Initializing BavarianCropsDataset test partition in krum\n",
      "read 12 classes\n",
      "precached dataset files found at C:/Users/datasets/BavarianCrops/npy\\12_classes\\blocks\\krum\\test\n",
      "Dataset C:/Users/datasets/BavarianCrops/. region krum. partition test.X:4278x(71, 16), y:(4278,) with 12 classes\n",
      "Initializing BavarianCropsDataset train partition in nowa\n",
      "read 12 classes\n",
      "precached dataset files found at C:/Users/datasets/BavarianCrops/npy\\12_classes\\blocks\\nowa\\train\n",
      "Dataset C:/Users/datasets/BavarianCrops/. region nowa. partition train.X:7679x(144, 16), y:(7679,) with 12 classes\n",
      "Initializing BavarianCropsDataset valid partition in nowa\n",
      "read 12 classes\n",
      "precached dataset files found at C:/Users/datasets/BavarianCrops/npy\\12_classes\\blocks\\nowa\\valid\n",
      "Dataset C:/Users/datasets/BavarianCrops/. region nowa. partition valid.X:746x(144, 16), y:(746,) with 12 classes\n",
      "Initializing BavarianCropsDataset test partition in nowa\n",
      "read 12 classes\n",
      "precached dataset files found at C:/Users/datasets/BavarianCrops/npy\\12_classes\\blocks\\nowa\\test\n",
      "Dataset C:/Users/datasets/BavarianCrops/. region nowa. partition test.X:3547x(144, 16), y:(3547,) with 12 classes\n",
      "Max sequence length is 144\n",
      "Calculating spectral indices for dataset: holl_test\n",
      "Calculating spectral indices for dataset: krum_test\n",
      "Calculating spectral indices for dataset: nowa_test\n",
      "Reading the precomputed attention weights from C:/Users/results/crop-type-classification-explainability/12_classes/right_padding/obs_aq_date/layers=1,heads=1,emb_dim=128/all_dates\\1654184128\\predictions\\attn_weights\\postprocessed\\parcel_temporal_attention.csv\n"
     ]
    }
   ],
   "source": [
    "spectral_indices = get_dataset_spectral_indices()\n",
    "temporal_attn_weights, temporal_attn_date_class_avg, avg_attention_per_obs_acq_date = get_attn_weights_patterns(base_model_path, \"all_dates\",\"1654184128\", target_classes=None)"
   ]
  },
  {
   "cell_type": "code",
   "execution_count": null,
   "id": "5a9f92a7",
   "metadata": {},
   "outputs": [],
   "source": [
    "plt.rcParams.update(attn_weight_matrix_viz_fonts)\n",
    "attn_weights_for_parcel = get_parcel_attn_weights(base_model_path, \"all_dates\",\"1654184128\", \"71456779\")\n",
    "attn_weights_for_parcel.index = attn_weights_for_parcel.index.map(lambda x: datetime.datetime(2018, int(x.split('-')[1]), int(x.split('-')[0])))\n",
    "attn_weights_for_parcel.index = attn_weights_for_parcel.index.map(lambda x: x.strftime(\"%b. %d\"))\n",
    "attn_weights_for_parcel.columns = attn_weights_for_parcel.columns.map(lambda x: datetime.datetime(2018, int(x.split('-')[1]), int(x.split('-')[0])))\n",
    "attn_weights_for_parcel.columns = attn_weights_for_parcel.columns.map(lambda x:  x.strftime(\"%b. %d\"))\n",
    "\n",
    "fig_width = set_size(150)[0]\n",
    "fig, ax_attn_weights = plt.subplots(figsize=(fig_width, 2.5))\n",
    "ax_attn_weights = attn_weights_heatmap(attn_weights_for_parcel, ax_attn_weights, \"binary\", \"Winter Barley\", 18)\n",
    "\n",
    "fig.tight_layout()\n",
    "plt.savefig(os.path.join(figures_base_path, '71456779_attn_weights.png'))"
   ]
  },
  {
   "cell_type": "code",
   "execution_count": 3,
   "id": "210fe27a",
   "metadata": {
    "scrolled": true
   },
   "outputs": [
    {
     "data": {
      "image/png": "[encoded data removed]",
      "text/plain": [
       "<Figure size 259.029x180 with 1 Axes>"
      ]
     },
     "metadata": {
      "needs_background": "light"
     },
     "output_type": "display_data"
    }
   ],
   "source": [
    "plt.rcParams.update(tex_fonts)\n",
    "plot_attn_weights(figures_base_path, temporal_attn_date_class_avg,  target_classes = [\"grassland\",\"corn\", \"summer barley\", \"winter wheat\",\"winter barley\"], y_plot_label=\"Temporal importance\")"
   ]
  },
  {
   "cell_type": "code",
   "execution_count": 12,
   "id": "5a16b256",
   "metadata": {},
   "outputs": [
    {
     "data": {
      "text/plain": [
       "Date\n",
       "2018-07-01    0.143337\n",
       "2018-07-03    0.138712\n",
       "2018-05-07    0.063266\n",
       "2018-04-07    0.056005\n",
       "2018-05-22    0.055646\n",
       "                ...   \n",
       "2018-11-30    0.000142\n",
       "2018-11-08    0.000128\n",
       "2018-12-05    0.000120\n",
       "2018-11-10    0.000092\n",
       "2018-11-05    0.000061\n",
       "Name: Attention, Length: 144, dtype: float64"
      ]
     },
     "execution_count": 12,
     "metadata": {},
     "output_type": "execute_result"
    }
   ],
   "source": [
    "sort_by_attention(temporal_attn_weights, \"Attention\")"
   ]
  },
  {
   "cell_type": "code",
   "execution_count": 7,
   "id": "43c76132",
   "metadata": {},
   "outputs": [
    {
     "name": "stdout",
     "output_type": "stream",
     "text": [
      "DatetimeIndex(['2018-07-01', '2018-07-03', '2018-05-07'], dtype='datetime64[ns]', name='Date', freq=None)\n",
      "07-01\n",
      "Explained variation per principal component: [0.73938726 0.1953666 ]\n",
      "07-03\n",
      "Explained variation per principal component: [0.68650943 0.245018  ]\n",
      "05-07\n",
      "Explained variation per principal component: [0.81593853 0.15540365]\n"
     ]
    },
    {
     "name": "stderr",
     "output_type": "stream",
     "text": [
      "C:\\Users\\Ivica Obadic\\AppData\\Local\\Temp\\ipykernel_15664\\2674563512.py:17: SettingWithCopyWarning: \n",
      "A value is trying to be set on a copy of a slice from a DataFrame.\n",
      "Try using .loc[row_indexer,col_indexer] = value instead\n",
      "\n",
      "See the caveats in the documentation: https://pandas.pydata.org/pandas-docs/stable/user_guide/indexing.html#returning-a-view-versus-a-copy\n",
      "  relevant_attn_spectral_indices_target_date['pca-dim-1'] = pca_result[:,0]\n",
      "C:\\Users\\Ivica Obadic\\AppData\\Local\\Temp\\ipykernel_15664\\2674563512.py:18: SettingWithCopyWarning: \n",
      "A value is trying to be set on a copy of a slice from a DataFrame.\n",
      "Try using .loc[row_indexer,col_indexer] = value instead\n",
      "\n",
      "See the caveats in the documentation: https://pandas.pydata.org/pandas-docs/stable/user_guide/indexing.html#returning-a-view-versus-a-copy\n",
      "  relevant_attn_spectral_indices_target_date['pca-dim-2'] = pca_result[:,1]\n",
      "C:\\Users\\Ivica Obadic\\AppData\\Local\\Temp\\ipykernel_15664\\2674563512.py:17: SettingWithCopyWarning: \n",
      "A value is trying to be set on a copy of a slice from a DataFrame.\n",
      "Try using .loc[row_indexer,col_indexer] = value instead\n",
      "\n",
      "See the caveats in the documentation: https://pandas.pydata.org/pandas-docs/stable/user_guide/indexing.html#returning-a-view-versus-a-copy\n",
      "  relevant_attn_spectral_indices_target_date['pca-dim-1'] = pca_result[:,0]\n",
      "C:\\Users\\Ivica Obadic\\AppData\\Local\\Temp\\ipykernel_15664\\2674563512.py:18: SettingWithCopyWarning: \n",
      "A value is trying to be set on a copy of a slice from a DataFrame.\n",
      "Try using .loc[row_indexer,col_indexer] = value instead\n",
      "\n",
      "See the caveats in the documentation: https://pandas.pydata.org/pandas-docs/stable/user_guide/indexing.html#returning-a-view-versus-a-copy\n",
      "  relevant_attn_spectral_indices_target_date['pca-dim-2'] = pca_result[:,1]\n",
      "C:\\Users\\Ivica Obadic\\AppData\\Local\\Temp\\ipykernel_15664\\2674563512.py:17: SettingWithCopyWarning: \n",
      "A value is trying to be set on a copy of a slice from a DataFrame.\n",
      "Try using .loc[row_indexer,col_indexer] = value instead\n",
      "\n",
      "See the caveats in the documentation: https://pandas.pydata.org/pandas-docs/stable/user_guide/indexing.html#returning-a-view-versus-a-copy\n",
      "  relevant_attn_spectral_indices_target_date['pca-dim-1'] = pca_result[:,0]\n",
      "C:\\Users\\Ivica Obadic\\AppData\\Local\\Temp\\ipykernel_15664\\2674563512.py:18: SettingWithCopyWarning: \n",
      "A value is trying to be set on a copy of a slice from a DataFrame.\n",
      "Try using .loc[row_indexer,col_indexer] = value instead\n",
      "\n",
      "See the caveats in the documentation: https://pandas.pydata.org/pandas-docs/stable/user_guide/indexing.html#returning-a-view-versus-a-copy\n",
      "  relevant_attn_spectral_indices_target_date['pca-dim-2'] = pca_result[:,1]\n"
     ]
    }
   ],
   "source": [
    "num_dates_to_use = 3\n",
    "attn_with_signature = get_attn_and_signature_for_top_n_attention_dates(temporal_attn_weights, spectral_indices, num_dates=num_dates_to_use)\n",
    "\n",
    "#show the dates with highest attention first\n",
    "top_attention_dates = sort_by_attention(attn_with_signature)\n",
    "\n",
    "attn_with_signature_and_pca_per_date = []\n",
    "for i, target_date in enumerate(top_attention_dates.index):\n",
    "    print(target_date)\n",
    "#     if target_date == \"07-03\":\n",
    "#         continue\n",
    "    relevant_attn_spectral_indices_target_date = attn_with_signature.loc[attn_with_signature[\"Date\"] == target_date]\n",
    "    \n",
    "    pca = PCA(n_components=2)\n",
    "    pca_result = pca.fit_transform(relevant_attn_spectral_indices_target_date[BANDS].values)\n",
    "    print('Explained variation per principal component: {}'.format(pca.explained_variance_ratio_))\n",
    "    relevant_attn_spectral_indices_target_date['pca-dim-1'] = pca_result[:,0]\n",
    "    relevant_attn_spectral_indices_target_date['pca-dim-2'] = pca_result[:,1]\n",
    "    \n",
    "    attn_with_signature_and_pca_per_date.append(relevant_attn_spectral_indices_target_date)\n",
    "    \n",
    "attn_with_signature_and_pca = pd.concat(attn_with_signature_and_pca_per_date)"
   ]
  },
  {
   "cell_type": "code",
   "execution_count": null,
   "id": "b0d76378",
   "metadata": {},
   "outputs": [],
   "source": [
    "fig_size = set_size(520)\n",
    "g = sns.relplot(data=attn_with_signature_and_pca,\n",
    "            x=\"pca-dim-1\", y=\"pca-dim-2\", col=\"Date\",\n",
    "            hue=\"Crop type\", col_order=top_attention_dates.index,\n",
    "            size=\"Attention\", sizes=(1, 200),\n",
    "            palette=CROP_TYPE_COLOR_MAPPING)\n",
    "\n",
    "g.fig.set_figwidth(fig_size[0])\n",
    "g.fig.set_figheight(2)\n",
    "for i, ax in enumerate(g.axes.flatten()):\n",
    "    date = top_attention_dates.index[i]\n",
    "    date_output = datetime.datetime(2018, int(date.split('-')[0]), int(date.split('-')[1]))\n",
    "    ax.set_title(date_output.strftime(\"%B %d\"), fontweight =\"bold\")\n",
    "\n",
    "\n",
    "g.legend.remove()\n",
    "g.fig.legend(handles=g.legend.legendHandles[1:6], loc=1)\n",
    "\n",
    "#axs.set_title(\"Spectral Reflectances on {}\".format(target_date))\n",
    "g.savefig(os.path.join(figures_base_path, 'spectral_reflectances_top_dates.png'), dpi=400)"
   ]
  },
  {
   "cell_type": "code",
   "execution_count": null,
   "id": "6eadc7d5",
   "metadata": {},
   "outputs": [],
   "source": [
    "fig_size = set_size(173)\n",
    "attn_with_signature_and_pca_on_date = attn_with_signature_and_pca[at]\n",
    "g = sns.relplot(data=attn_with_signature_and_pca,\n",
    "            x=\"pca-dim-1\", y=\"pca-dim-2\", col=\"Date\",\n",
    "            hue=\"Crop type\", col_order=top_attention_dates.index,\n",
    "            size=\"Attention\", sizes=(1, 200),\n",
    "            palette=CROP_TYPE_COLOR_MAPPING)"
   ]
  },
  {
   "cell_type": "code",
   "execution_count": null,
   "id": "f59d89f5",
   "metadata": {
    "scrolled": true
   },
   "outputs": [],
   "source": [
    "for target_date in top_attention_dates.index:\n",
    "    visualize_geotiff_parcels(target_date, figures_base_path, show_title=False)"
   ]
  },
  {
   "cell_type": "code",
   "execution_count": null,
   "id": "18529ae6",
   "metadata": {},
   "outputs": [],
   "source": [
    "attn_with_signature_long = pd.melt(attn_with_signature_and_pca, id_vars=[\"Date\", \"PARCEL_ID\", \"Crop type\"], value_vars=[\"Attention\", \"NDVI\"], var_name=\"Metric\", value_name=\"Value\")\n",
    "fig, axs = plt.subplots(figsize=(set_size(520)[0], 2.5), ncols=3, nrows=1, sharey=True)\n",
    "\n",
    "for i, target_date in enumerate(top_attention_dates.index):\n",
    "    ax_ndvi_date = axs[i]\n",
    "    data_per_date = attn_with_signature_long.loc[attn_with_signature_long[\"Date\"] == target_date]\n",
    "    ax_ndvi_date = sns.barplot(x=\"Crop type\", y=\"Value\", hue=\"Metric\", data=data_per_date, ax=ax_ndvi_date, ci=\"sd\",\n",
    "                          order=[\"grassland\", \"summer barley\",\"corn\", \"winter wheat\", \"winter barley\"])\n",
    "    ax_ndvi_date.set_xticklabels(ax_ndvi_date.xaxis.get_ticklabels(), rotation=45, ha=\"right\")\n",
    "    date_output = datetime.datetime(2018, int(target_date.split('-')[0]), int(target_date.split('-')[1]))\n",
    "    #ax_ndvi_date.set_title(date_output.strftime(\"%B %d\"))\n",
    "    if (i > 0):\n",
    "        ax_ndvi_date.yaxis.set_label_text('')\n",
    "        ax_ndvi_date.get_legend().remove()    \n",
    "\n",
    "fig.tight_layout()\n",
    "plt.savefig(os.path.join(figures_base_path, '{}.pdf'.format(\"NDVI_vs_attention\")))"
   ]
  },
  {
   "cell_type": "code",
   "execution_count": null,
   "id": "91b489a3",
   "metadata": {},
   "outputs": [],
   "source": [
    "from matplotlib.offsetbox import OffsetImage, AnnotationBbox\n",
    "from rasterio.plot import reshape_as_raster, reshape_as_image\n",
    "\n",
    "target_parcel = 71529070\n",
    "base_parcels_path = \"C:/Users/datasets/BavarianCrops/parcel_visualization/parcels_over_time\"\n",
    "\n",
    "data_for_parcel = attn_with_signature_and_pca.loc[attn_with_signature_and_pca[\"PARCEL_ID\"] == target_parcel]\n",
    "data_for_parcel = data_for_parcel.sort_values(by=\"Date\")\n",
    "data_for_parcel[\"TIMESTAMP\"] = data_for_parcel['TIMESTAMP'].dt.strftime('%B %d')\n",
    "fig_width = set_size(260)[0]\n",
    "fig, axs = plt.subplots(figsize=(fig_width, 2.8))\n",
    "axs.set_ylim(-0.01, (max(data_for_parcel[\"Attention\"])) + 0.2)\n",
    "axs = sns.stripplot(data=data_for_parcel, x=\"TIMESTAMP\", y=\"Attention\", ax = axs, jitter=False)\n",
    "for i in range(len(data_for_parcel.index)):\n",
    "    attn_at_date = data_for_parcel.iloc[i]\n",
    "    date = attn_at_date[\"Date\"]\n",
    "    tiff_image_path = os.path.join(base_parcels_path, \"{}_{}.tif\".format(target_parcel, date))\n",
    "    image = load_tiff_image(tiff_image_path)\n",
    "    image = reshape_as_image(image)\n",
    "    image = OffsetImage(image, zoom=2.5)\n",
    "    ab = AnnotationBbox(image, (i, attn_at_date[\"Attention\"]  + 0.16), frameon=False)\n",
    "    axs.add_artist(ab)\n",
    "\n",
    "axs.set_xlabel('Date')\n",
    "axs.set_ylabel('Temporal importance')\n",
    "\n",
    "axs.spines.right.set_visible(False)\n",
    "axs.spines.top.set_visible(False)\n",
    "\n",
    "plt.savefig(os.path.join(figures_base_path, '{}.pdf'.format(\"{}_parcel_viz\".format(target_parcel))))\n",
    "plt.savefig(os.path.join(figures_base_path, '{}.png'.format(\"{}_parcel_viz\".format(target_parcel))), dpi=400)"
   ]
  }
 ],
 "metadata": {
  "kernelspec": {
   "display_name": "Python 3 (ipykernel)",
   "language": "python",
   "name": "python3"
  },
  "language_info": {
   "codemirror_mode": {
    "name": "ipython",
    "version": 3
   },
   "file_extension": ".py",
   "mimetype": "text/x-python",
   "name": "python",
   "nbconvert_exporter": "python",
   "pygments_lexer": "ipython3",
   "version": "3.8.12"
  }
 },
 "nbformat": 4,
 "nbformat_minor": 5
}
